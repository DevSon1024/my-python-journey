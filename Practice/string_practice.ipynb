{
 "cells": [
  {
   "cell_type": "code",
   "execution_count": 21,
   "id": "2be742a4",
   "metadata": {},
   "outputs": [
    {
     "name": "stdout",
     "output_type": "stream",
     "text": [
      "today i will think about won at life life life\n",
      "today i will think about won at life life life\n"
     ]
    }
   ],
   "source": [
    "line1 = \"today i will think about won at life life life\"\n",
    "print(line1.strip())\n",
    "print(line1.rstrip())"
   ]
  },
  {
   "cell_type": "code",
   "execution_count": 39,
   "id": "3310c7c9",
   "metadata": {},
   "outputs": [
    {
     "name": "stdout",
     "output_type": "stream",
     "text": [
      "['keep', 'google', 'com/u/0/#home']\n",
      "['keep', 'google']\n",
      "3\n"
     ]
    }
   ],
   "source": [
    "# https://keep.google.com/u/0/#home\n",
    "\n",
    "website = input(\"Enter Url:\").strip()\n",
    "domain_name = website.replace(\"https://\",\"\").split(\".\")\n",
    "print(domain_name)\n",
    "print(domain_name[:2])\n",
    "print(len(domain_name))"
   ]
  }
 ],
 "metadata": {
  "kernelspec": {
   "display_name": "Python 3",
   "language": "python",
   "name": "python3"
  },
  "language_info": {
   "codemirror_mode": {
    "name": "ipython",
    "version": 3
   },
   "file_extension": ".py",
   "mimetype": "text/x-python",
   "name": "python",
   "nbconvert_exporter": "python",
   "pygments_lexer": "ipython3",
   "version": "3.13.3"
  }
 },
 "nbformat": 4,
 "nbformat_minor": 5
}
