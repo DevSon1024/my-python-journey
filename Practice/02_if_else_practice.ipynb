{
 "cells": [
  {
   "cell_type": "code",
   "execution_count": null,
   "id": "36ab936b",
   "metadata": {},
   "outputs": [
    {
     "name": "stdout",
     "output_type": "stream",
     "text": [
      "Odd\n"
     ]
    }
   ],
   "source": [
    "# Odd/Even checker\n",
    "\n",
    "num = int(input(\"Enter a Number:\"))\n",
    "\n",
    "if num % 2 == 0:\n",
    "    print(f\"{num} is Even\")\n",
    "else:\n",
    "    print(f\"{num} is Odd\")\n",
    "    "
   ]
  },
  {
   "cell_type": "code",
   "execution_count": 3,
   "id": "29807b23",
   "metadata": {},
   "outputs": [
    {
     "name": "stdout",
     "output_type": "stream",
     "text": [
      "Person is Going Heaven Save Him Anyway...\n"
     ]
    }
   ],
   "source": [
    "# Age categorizer\n",
    "\n",
    "age = int(input(\"Enter Your Age\"))\n",
    "\n",
    "if age < 18:\n",
    "    print(\"Person is young\")\n",
    "elif age >=18 and age <50:\n",
    "    print(\"Person is Middle Age.\")\n",
    "elif age >=50 and age <80:\n",
    "    print(\"Person is old\")\n",
    "else:\n",
    "    print(\"Person is Going Heaven Save Him Anyway...\")"
   ]
  },
  {
   "cell_type": "code",
   "execution_count": null,
   "id": "7a6f2ca5",
   "metadata": {},
   "outputs": [
    {
     "name": "stdout",
     "output_type": "stream",
     "text": [
      "Your Username is: Devson123\n",
      "Your Password is: 125412\n",
      "Wrong Credentials! try again.\n"
     ]
    }
   ],
   "source": [
    "# Simple login form\n",
    "username = input(\"Enter Username: \")\n",
    "password = input(\"Enter Password: \")\n",
    "\n",
    "print(\"Your Username is:\",username)\n",
    "print(\"Your Password is:\",password)\n",
    "\n",
    "if username == \"Devson123\" and password == \"123456\":\n",
    "    print(\"welcome Devson123 agin.\")\n",
    "else:\n",
    "    print(\"Wrong Credentials! try again.\")"
   ]
  },
  {
   "cell_type": "code",
   "execution_count": null,
   "id": "307d9dc7",
   "metadata": {},
   "outputs": [
    {
     "name": "stdout",
     "output_type": "stream",
     "text": [
      "5 is Fail\n"
     ]
    }
   ],
   "source": [
    "# Grade calculator\n",
    "\n",
    "name = input(\"Enter Student Name: \")\n",
    "marks = int(input(\"Enter Student Marks in Marathi: \"))\n",
    "\n",
    "if marks >= 90 and marks < 100:\n",
    "    print(f\"{name} has got {marks}and grade is A+\")\n",
    "elif marks >=85 and marks < 90:\n",
    "    print(f\"{name} has got {marks}and grade is A\")\n",
    "elif marks >= 80 and marks < 85:\n",
    "    print(f\"{name} has got {marks}and grade is B+\")\n",
    "elif marks >= 60 and marks < 80:\n",
    "    print(f\"{name} has got {marks}and grade is B\")\n",
    "elif marks >=34 and marks < 60:\n",
    "    print(f\"{name} has got {marks}and grade is C\")\n",
    "else:\n",
    "    print(f\"{name} has got {marks}and result is Fail\")"
   ]
  },
  {
   "cell_type": "code",
   "execution_count": 4,
   "id": "2f26e376",
   "metadata": {},
   "outputs": [
    {
     "name": "stdout",
     "output_type": "stream",
     "text": [
      "Devson's Age is 80 and Eligible for Voting\n"
     ]
    }
   ],
   "source": [
    "#  Voter eligibility check\n",
    "name = input(\"Enter Voting Person Name: \")\n",
    "age = int(input(\"Enter Voting Person age: \"))\n",
    "if age >= 18:\n",
    "    print(f\"{name}'s Age is {age} and Eligible for Voting\")\n",
    "else:\n",
    "    print(f\"{name}'s Age is {age} and is minor so not eligible for voting\")"
   ]
  }
 ],
 "metadata": {
  "kernelspec": {
   "display_name": "Python 3",
   "language": "python",
   "name": "python3"
  },
  "language_info": {
   "codemirror_mode": {
    "name": "ipython",
    "version": 3
   },
   "file_extension": ".py",
   "mimetype": "text/x-python",
   "name": "python",
   "nbconvert_exporter": "python",
   "pygments_lexer": "ipython3",
   "version": "3.13.3"
  }
 },
 "nbformat": 4,
 "nbformat_minor": 5
}
