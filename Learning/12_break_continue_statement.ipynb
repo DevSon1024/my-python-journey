{
 "cells": [
  {
   "cell_type": "markdown",
   "id": "0365e891",
   "metadata": {},
   "source": [
    "**Break Statement**\n",
    "- The Break Statement enables a program to skip over a part of the code. \n",
    "- A break statement terminates the very loop it lies within"
   ]
  },
  {
   "cell_type": "code",
   "execution_count": null,
   "id": "f0fef3d9",
   "metadata": {},
   "outputs": [
    {
     "name": "stdout",
     "output_type": "stream",
     "text": [
      "5 X 0 = 5\n",
      "5 X 1 = 10\n",
      "5 X 2 = 15\n",
      "5 X 3 = 20\n",
      "5 X 4 = 25\n",
      "5 X 5 = 30\n",
      "5 X 6 = 35\n",
      "5 X 7 = 40\n",
      "5 X 8 = 45\n",
      "5 X 9 = 50\n",
      "Loop ko chodkar nikal gaya\n"
     ]
    }
   ],
   "source": [
    "for i in range(12):\n",
    "    if (i==10):\n",
    "        break\n",
    "    print(\"5 X\",i+1,\"=\",5 * (i+1))\n",
    "    # if we write same above brake condition below the print syntax than it will work for print's output\n",
    "    # means intead of 10 it will break on 11\n",
    "    # if (i==10):\n",
    "    #     break\n",
    "    \n",
    "print(\"Loop ko chhodkar nikal gaya\")\n",
    "    "
   ]
  },
  {
   "cell_type": "markdown",
   "id": "ea003b98",
   "metadata": {},
   "source": [
    "**Continue Statement**\n",
    "- The continue Statement skips the rest of the loop statements and causes the next iteration to occur.\n",
    "- **`break` skips the loop** and **`continue` skip the iteration**.\n",
    "- means that perticular subject where condition becomes false and the loop continues."
   ]
  },
  {
   "cell_type": "code",
   "execution_count": null,
   "id": "36d6f9ec",
   "metadata": {},
   "outputs": [
    {
     "name": "stdout",
     "output_type": "stream",
     "text": [
      "5 X 1 = 5\n",
      "5 X 2 = 10\n",
      "5 X 3 = 15\n",
      "5 X 4 = 20\n",
      "5 X 5 = 25\n",
      "5 X 6 = 30\n",
      "5 X 7 = 35\n",
      "5 X 8 = 40\n",
      "Skip the interation\n",
      "5 X 10 = 50\n",
      "5 X 11 = 55\n",
      "5 X 12 = 60\n"
     ]
    }
   ],
   "source": [
    "'''\n",
    "if i==8 than it will skip the 8th index of the counting. \n",
    "same as for other thing condition matches the continue statement ends there and let the loop do their job. \n",
    "'''\n",
    "\n",
    "for i in range(12):\n",
    "    if(i == 10):\n",
    "        print(\"Skip the interation\")\n",
    "        continue\n",
    "    print(\"5 X\",i+1,\"=\",5 * i)"
   ]
  },
  {
   "cell_type": "code",
   "execution_count": 10,
   "id": "168ffd53",
   "metadata": {},
   "outputs": [
    {
     "name": "stdout",
     "output_type": "stream",
     "text": [
      "2\n",
      "4\n",
      "6\n",
      "8\n"
     ]
    }
   ],
   "source": [
    "# another example of continue statement\n",
    "\n",
    "for i in [2,3,4,6,8,9]:\n",
    "    if (i%2 != 0):\n",
    "        continue\n",
    "    print(i)"
   ]
  },
  {
   "cell_type": "markdown",
   "id": "f7766123",
   "metadata": {},
   "source": [
    "**Emulation of the `do while` loop in python**\n",
    "\n",
    "- Do..While loop is a loop in which a set of instructions will execute at least once (irrespective of the condition)\n",
    "- then the repetition of loop's body will depend on the condition of the while loop. \n",
    "- it is also known as an exit-controlled loop."
   ]
  },
  {
   "cell_type": "code",
   "execution_count": null,
   "id": "ab5a181c",
   "metadata": {},
   "outputs": [
    {
     "name": "stdout",
     "output_type": "stream",
     "text": [
      "You entered: 5\n",
      "You entered: 6\n",
      "You entered: 4\n",
      "Negative number entered, exiting loop.\n"
     ]
    }
   ],
   "source": [
    "# i = 0\n",
    "# while True:\n",
    "#     print(i)\n",
    "#     i = i + 1\n",
    "#     if(i%100 == 0):\n",
    "#         break\n",
    "    \n",
    "\n",
    "# while True:\n",
    "#     number = int(input(\"Enter a positive number: \"))\n",
    "#     print(number)\n",
    "#     if not number > 0:\n",
    "#         break\n",
    "    \n",
    "while True:\n",
    "    number = int(input(\"Enter a positive number: \"))\n",
    "    if number < 0:\n",
    "        print(\"Negative number entered, exiting loop.\")\n",
    "        break\n",
    "    print(f\"You entered: {number}\")\n"
   ]
  }
 ],
 "metadata": {
  "kernelspec": {
   "display_name": "Python 3",
   "language": "python",
   "name": "python3"
  },
  "language_info": {
   "codemirror_mode": {
    "name": "ipython",
    "version": 3
   },
   "file_extension": ".py",
   "mimetype": "text/x-python",
   "name": "python",
   "nbconvert_exporter": "python",
   "pygments_lexer": "ipython3",
   "version": "3.13.3"
  }
 },
 "nbformat": 4,
 "nbformat_minor": 5
}
