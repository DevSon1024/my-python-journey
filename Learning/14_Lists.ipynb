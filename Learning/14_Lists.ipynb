{
 "cells": [
  {
   "cell_type": "markdown",
   "id": "75d9ef57",
   "metadata": {},
   "source": [
    "### <b>Python Lists</b>\n",
    "- Lists are orderes collection of data items\n",
    "- they store multiple items in a single variable\n",
    "- List items are separated by commans and enclosed within square brackets [].\n",
    "- Lists are changeable meaning we can alter them after creation"
   ]
  },
  {
   "cell_type": "code",
   "execution_count": null,
   "id": "55c0aade",
   "metadata": {},
   "outputs": [],
   "source": [
    "\n",
    "l = [3,5,6]\n",
    "print(l)\n",
    "print(type(l))"
   ]
  },
  {
   "cell_type": "code",
   "execution_count": null,
   "id": "a132991f",
   "metadata": {},
   "outputs": [
    {
     "name": "stdout",
     "output_type": "stream",
     "text": [
      "3\n",
      "5\n",
      "6\n"
     ]
    }
   ],
   "source": [
    "marks = [3,5,6,]\n",
    "print(marks[0])\n",
    "print(marks[1])\n",
    "print(marks[2])\n",
    "# addition in lists"
   ]
  },
  {
   "cell_type": "code",
   "execution_count": null,
   "id": "8640cd64",
   "metadata": {},
   "outputs": [],
   "source": [
    "# we can also add multiple datatypes in the list\n",
    "marks = [3,5,6,\"devson\",True]\n",
    "print(marks[0])\n",
    "print(marks[1])\n",
    "print(marks[2])"
   ]
  },
  {
   "cell_type": "code",
   "execution_count": null,
   "id": "8e2f99e4",
   "metadata": {},
   "outputs": [
    {
     "name": "stdout",
     "output_type": "stream",
     "text": [
      "Blue\n",
      "Blue\n",
      "Blue\n",
      "Blue\n",
      "Yellow is present.\n",
      "Yes\n"
     ]
    }
   ],
   "source": [
    "# List Index\n",
    "\n",
    "colors = [\"Red\",\"Green\",\"Blue\",\"Yellow\",\"Green\"]\n",
    "\n",
    "print(colors[-3])\n",
    "# if we want to make negative index into postive index\n",
    "print(colors[len(colors)-3]) \n",
    "print(colors[5-3]) \n",
    "print(colors[2]) \n",
    "\n",
    "# check whether an item in present in the list?\n",
    "# we can check if a given item is present in the list. this is done using the 'in' keyword\n",
    "if \"Yellow\" in colors:\n",
    "    print(\"Yellow is present.\")\n",
    "else:\n",
    "    print(\"Yellow is absent\") "
   ]
  },
  {
   "cell_type": "code",
   "execution_count": 1,
   "id": "e011849a",
   "metadata": {},
   "outputs": [
    {
     "name": "stdout",
     "output_type": "stream",
     "text": [
      "Yes it is present.\n"
     ]
    }
   ],
   "source": [
    "# custom work\n",
    "if \"Dev\" in \"Devson\":\n",
    "    print(\"Yes it is present.\")\n",
    "else:\n",
    "    print(\"No it is absent\")"
   ]
  },
  {
   "cell_type": "code",
   "execution_count": null,
   "id": "5ecdf99b",
   "metadata": {},
   "outputs": [
    {
     "name": "stdout",
     "output_type": "stream",
     "text": [
      "[3, 5, 6, 'devson', True, 4, 6, 5, 8, 9]\n",
      "[5, 6, 'devson', True, 4, 6, 5, 8]\n",
      "[5, True, 5]\n",
      "[5, 6, 'devson', True, 4, 6, 5, 8, 9]\n",
      "[5, 6, 'devson', True, 4, 6, 5, 8, 9]\n"
     ]
    }
   ],
   "source": [
    "marks = [3,5,6,\"devson\",True,4,6,5,8,9]\n",
    "\n",
    "print(marks)\n",
    "print(marks[1:-1])\n",
    "print(marks[1:8:3])\n",
    "\n",
    "# len of list variable (both are same)\n",
    "print(marks[1:])\n",
    "print(marks[1:len(marks)])"
   ]
  },
  {
   "cell_type": "markdown",
   "id": "c48e50e7",
   "metadata": {},
   "source": [
    "### **List Comprehesion**\n",
    "\n",
    "- List Comprehension are used for creating new lists from other iterables.\n",
    "- like: \n",
    "    - `Lists`\n",
    "    - `Tuples`\n",
    "    - `Dictionaries`\n",
    "    - `Sets`\n",
    "    - Even in `arrays` and `strings`"
   ]
  },
  {
   "cell_type": "code",
   "execution_count": null,
   "id": "a4f45c1e",
   "metadata": {},
   "outputs": [
    {
     "name": "stdout",
     "output_type": "stream",
     "text": [
      "[0, 1, 2, 3]\n"
     ]
    }
   ],
   "source": [
    "lst = [i for i in range(4)]\n",
    "print(lst)"
   ]
  }
 ],
 "metadata": {
  "kernelspec": {
   "display_name": "Python 3",
   "language": "python",
   "name": "python3"
  },
  "language_info": {
   "codemirror_mode": {
    "name": "ipython",
    "version": 3
   },
   "file_extension": ".py",
   "mimetype": "text/x-python",
   "name": "python",
   "nbconvert_exporter": "python",
   "pygments_lexer": "ipython3",
   "version": "3.13.3"
  }
 },
 "nbformat": 4,
 "nbformat_minor": 5
}
