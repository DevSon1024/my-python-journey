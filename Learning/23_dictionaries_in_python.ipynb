{
 "cells": [
  {
   "cell_type": "markdown",
   "id": "48cd3d9f",
   "metadata": {},
   "source": [
    "### <b> Python Dictionaries </b>\n",
    "\n",
    "- Dictionaries are ordered collection of data items. \n",
    "- They stor multiple otems in a single variable.\n",
    "- Dictionaries items are key-value pairs that are separated by commas and enclosed within curly brackets {}."
   ]
  },
  {
   "cell_type": "code",
   "execution_count": 3,
   "id": "cec07584",
   "metadata": {},
   "outputs": [
    {
     "name": "stdout",
     "output_type": "stream",
     "text": [
      "{'name': 'Devson', 'age': 23, 'eligible': True}\n"
     ]
    }
   ],
   "source": [
    "info = {\n",
    "    'name': 'Devson',\n",
    "    'age' : 23,\n",
    "    'eligible': True,\n",
    "}\n",
    "print(info)"
   ]
  },
  {
   "cell_type": "code",
   "execution_count": null,
   "id": "b6122229",
   "metadata": {},
   "outputs": [
    {
     "name": "stdout",
     "output_type": "stream",
     "text": [
      "Human\n"
     ]
    }
   ],
   "source": [
    "dic = {\n",
    "    \"Devson\": \"Human\",\n",
    "    \"Spoon\": \"Object\"\n",
    "}\n",
    "print(dic[\"Devson\"])"
   ]
  },
  {
   "cell_type": "markdown",
   "id": "ccacc426",
   "metadata": {},
   "source": [
    "- we can use dictionaries for storing marks by student name or roll number.\n",
    "\n",
    "- we can also map employee name with emp id. "
   ]
  },
  {
   "cell_type": "code",
   "execution_count": null,
   "id": "36b18ed9",
   "metadata": {},
   "outputs": [
    {
     "name": "stdout",
     "output_type": "stream",
     "text": [
      "Devson\n"
     ]
    }
   ],
   "source": [
    "dic = {\n",
    "    213: \"Devson\",\n",
    "    214: \"Chetan\",\n",
    "    123: \"Harry\"\n",
    "}\n",
    "print(dic[213])"
   ]
  },
  {
   "cell_type": "markdown",
   "id": "bae5f5c8",
   "metadata": {},
   "source": [
    "### <b>Accessing Dictionaries items:</b>\n",
    "\n",
    "<h4><b>1. Accessing Single Values</b></h4>\n",
    "\n",
    "-  Values in a dictionary can be accessed using keys. \n",
    "- We can access dictionary values by mentioning keys  either in square brackets or by using get method."
   ]
  },
  {
   "cell_type": "code",
   "execution_count": 5,
   "id": "26016a16",
   "metadata": {},
   "outputs": [
    {
     "name": "stdout",
     "output_type": "stream",
     "text": [
      "{'name': 'Devson', 'age': 23, 'eligible': True}\n",
      "Devson\n",
      "True\n"
     ]
    }
   ],
   "source": [
    "info = {'name': 'Devson', 'age': 23, 'eligible': True}\n",
    "print(info)\n",
    "print(info['name'])\n",
    "print(info.get('eligible'))"
   ]
  },
  {
   "cell_type": "markdown",
   "id": "a7bc4124",
   "metadata": {},
   "source": [
    "<h4><b>2. Accessing Multiple Values and Keys</b></h4>\n",
    "\n",
    "- We can print all the values in the dictionary using values() method.\n",
    "- We can print all the kesy in the dictionary using keys() method."
   ]
  },
  {
   "cell_type": "code",
   "execution_count": 9,
   "id": "19af35fb",
   "metadata": {},
   "outputs": [
    {
     "name": "stdout",
     "output_type": "stream",
     "text": [
      "dict_keys(['name', 'age', 'eligible'])\n",
      "dict_values(['Devson', 23, True])\n",
      "Devson\n",
      "23\n",
      "True\n"
     ]
    }
   ],
   "source": [
    "info = {\n",
    "    \"name\": \"Devson\",\n",
    "    \"age\": 23,\n",
    "    \"eligible\": True\n",
    "}\n",
    "print(info.keys())\n",
    "print(info.values())\n",
    "\n",
    "# getting keys using for loop\n",
    "\n",
    "for key in info.keys():\n",
    "    print(info[key])\n",
    "    "
   ]
  },
  {
   "cell_type": "markdown",
   "id": "13a80648",
   "metadata": {},
   "source": [
    "<h4><b>3. Accessing key-value pairs</b></h4>\n",
    "\n",
    "- We can print all the key-balue pairs in the dictionary using items() method.\n"
   ]
  },
  {
   "cell_type": "code",
   "execution_count": 11,
   "id": "57ae2b20",
   "metadata": {},
   "outputs": [
    {
     "name": "stdout",
     "output_type": "stream",
     "text": [
      "dict_items([('name', 'Devson'), ('age', 23), ('eligible', True)])\n",
      "name: Devson\n",
      "age: 23\n",
      "eligible: True\n"
     ]
    }
   ],
   "source": [
    "info = {\n",
    "    \"name\": \"Devson\",\n",
    "    \"age\": 23,\n",
    "    \"eligible\": True\n",
    "}\n",
    "print(info.items())\n",
    "\n",
    "# using for loop to get items\n",
    "for key, value in info.items():\n",
    "    print(f\"{key}: {value}\")"
   ]
  }
 ],
 "metadata": {
  "kernelspec": {
   "display_name": "Python 3",
   "language": "python",
   "name": "python3"
  },
  "language_info": {
   "codemirror_mode": {
    "name": "ipython",
    "version": 3
   },
   "file_extension": ".py",
   "mimetype": "text/x-python",
   "name": "python",
   "nbconvert_exporter": "python",
   "pygments_lexer": "ipython3",
   "version": "3.13.3"
  }
 },
 "nbformat": 4,
 "nbformat_minor": 5
}
