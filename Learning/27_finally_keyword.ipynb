{
 "cells": [
  {
   "cell_type": "markdown",
   "id": "40411e29",
   "metadata": {},
   "source": [
    "## <b>Finally Clause</b>\n",
    "\n",
    "- The finally code block is also a part of exceptionn handling.\n",
    "- When we handle exception using the try and except block, we can inlcude a finally block at the end.\n",
    "- The finally block is always executed, so it is generally used for doing the concluding tasks like closing file resources or closing database connection or may be ending the program execution with a delightful message.\n",
    "\n",
    "### <b>Syntax:</b>\n",
    "\n",
    "```python\n",
    "try:\n",
    "    #statements which could generate exception\n",
    "except:\n",
    "    #solution of generate exception\n",
    "finally:\n",
    "    #block of code which is going to execute in any sutuation\n",
    "```"
   ]
  },
  {
   "cell_type": "code",
   "execution_count": 2,
   "id": "0304a7a2",
   "metadata": {},
   "outputs": [
    {
     "name": "stdout",
     "output_type": "stream",
     "text": [
      "4\n",
      "I am always executed\n"
     ]
    }
   ],
   "source": [
    "try:\n",
    "    num = [1,5,4,7,2,3]\n",
    "    i = int(input(\"Enter an index: \"))\n",
    "    print(num[i])\n",
    "except:\n",
    "    print(\"some error occurred\")\n",
    "finally:\n",
    "    print(\"I am always executed\")"
   ]
  },
  {
   "cell_type": "markdown",
   "id": "fee98219",
   "metadata": {},
   "source": [
    "- there is print(\"I am always executed\") in the finally block, so it will always run regardless of whether an exception occurs or not.\n",
    "- if we thought that we can run simple print syntax to show the finally block, we are wrong.\n",
    "- the finally block is used to execute code that must run whether an exception occurs or not.\n",
    "- if we want to run a simple print statement, we can do it in the try block.\n",
    "- finally block is different from the simple print statement to print something that should always printed.\n",
    "- if we put that full code in a function like,"
   ]
  },
  {
   "cell_type": "code",
   "execution_count": null,
   "id": "5b887e76",
   "metadata": {},
   "outputs": [
    {
     "name": "stdout",
     "output_type": "stream",
     "text": [
      "1\n",
      "1\n"
     ]
    }
   ],
   "source": [
    "def func1():\n",
    "    try:\n",
    "        num = [1,5,4,7,2,3]\n",
    "        i = int(input(\"Enter an index: \"))\n",
    "        print(num[i])\n",
    "        return 1\n",
    "    except:\n",
    "        print(\"some error occurred\")\n",
    "        return 0\n",
    "    finally:\n",
    "        print(\"I am always executed\")\n",
    "    # print(\"I am always executed\")\n",
    "\n",
    "x = func1()\n",
    "print(x)"
   ]
  },
  {
   "cell_type": "markdown",
   "id": "03870779",
   "metadata": {},
   "source": [
    "# <b>MIMP Interview Question:</b>\n",
    "- means finally block wiil be executed even if there is a return statement in try or except block \n",
    "- on other simple print statement will not printed if there is return statement in try or except block."
   ]
  }
 ],
 "metadata": {
  "kernelspec": {
   "display_name": "Python 3",
   "language": "python",
   "name": "python3"
  },
  "language_info": {
   "codemirror_mode": {
    "name": "ipython",
    "version": 3
   },
   "file_extension": ".py",
   "mimetype": "text/x-python",
   "name": "python",
   "nbconvert_exporter": "python",
   "pygments_lexer": "ipython3",
   "version": "3.13.3"
  }
 },
 "nbformat": 4,
 "nbformat_minor": 5
}
