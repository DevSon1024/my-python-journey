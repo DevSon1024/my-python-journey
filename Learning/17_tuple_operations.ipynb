{
 "cells": [
  {
   "cell_type": "markdown",
   "id": "e97f0921",
   "metadata": {},
   "source": [
    "## <b>Operations in tuple</b>\n",
    "\n",
    "### <b>Manipulating Tuples</b>\n",
    "\n",
    "- Tuples are immutable, hence if we want to add, remove or change tuple items. \n",
    "- then first we must conert the tuple to a list. \n",
    "- then perform operation on that list and convert it back to tuple."
   ]
  },
  {
   "cell_type": "code",
   "execution_count": null,
   "id": "645cf190",
   "metadata": {},
   "outputs": [
    {
     "name": "stdout",
     "output_type": "stream",
     "text": [
      "('India', 'USA', 'UK', 'Canada', 'Australia')\n",
      "('India', 'USA', 'Finland', 'Australia', 'Russia')\n"
     ]
    }
   ],
   "source": [
    "countries = ('India', 'USA', 'UK', 'Canada', 'Australia')\n",
    "temp = list(countries) # Convert tuple to list\n",
    "temp.append(\"Russia\") #append new item\n",
    "print(countries)\n",
    "temp.pop(3) # remove item at index 3\n",
    "temp[2] = \"Finland\" #change item at index 2\n",
    "countries = tuple(temp) # Convert list back to tuple\n",
    "print(countries) # show the updated tuple\n"
   ]
  },
  {
   "cell_type": "code",
   "execution_count": null,
   "id": "92bff6ec",
   "metadata": {},
   "outputs": [],
   "source": [
    "# However we can directly concantenate two tuples without converting them to list\n",
    "countries1 = ('India', 'USA', 'UK')\n",
    "countries2 = ('Canada', 'Australia', 'Russia')\n",
    "countries3 = countries1 + countries2  # Concatenate tuples\n",
    "print(countries3)  # Show the concatenated tuple"
   ]
  },
  {
   "cell_type": "code",
   "execution_count": null,
   "id": "742ceabf",
   "metadata": {},
   "outputs": [
    {
     "name": "stdout",
     "output_type": "stream",
     "text": [
      "Count of 3 in Tple1 is: 3\n"
     ]
    }
   ],
   "source": [
    "# Tuple Methods\n",
    "# count() method returns the number of times a specified value occurs in a tuple\n",
    "\n",
    "tuple1 = (1, 2, 3, 4, 3, 3, 5, 1, 2, 1, 3, 4, 5, 6, 7, 8, 9)\n",
    "res = tuple1.count(3)\n",
    "print('Count of 3 in Tple1 is:', res)"
   ]
  },
  {
   "cell_type": "code",
   "execution_count": null,
   "id": "335c2b30",
   "metadata": {
    "vscode": {
     "languageId": "ruby"
    }
   },
   "outputs": [
    {
     "name": "stdout",
     "output_type": "stream",
     "text": [
      "Index of 5 in Tuple2 is: 4\n"
     ]
    }
   ],
   "source": [
    "# index() method returns the first occurrence of the given element from the tuple\n",
    "# Note: this method raises a ValueError if the element is not d=found in the tuple\n",
    "tuple2 = (1, 2, 3, 4, 5, 6, 7, 8, 9)\n",
    "# res = tuple2.index(5)\n",
    "\n",
    "# if we want to find value in specific range of indices, we can pass start and end index as well\n",
    "# e.g.: tuple2.index(value, start, end)\n",
    "res = tuple2.index(5, 3, 10)  # start index is inclusive and end index is exclusive\n",
    "# res = tuple2.index(523)  # it will raise VakueError\n",
    "\n",
    "print('Index of 5 in Tuple2 is:', res)"
   ]
  }
 ],
 "metadata": {
  "kernelspec": {
   "display_name": "Python 3",
   "language": "python",
   "name": "python3"
  },
  "language_info": {
   "codemirror_mode": {
    "name": "ipython",
    "version": 3
   },
   "file_extension": ".py",
   "mimetype": "text/x-python",
   "name": "python",
   "nbconvert_exporter": "python",
   "pygments_lexer": "ipython3",
   "version": "3.13.3"
  }
 },
 "nbformat": 4,
 "nbformat_minor": 5
}
