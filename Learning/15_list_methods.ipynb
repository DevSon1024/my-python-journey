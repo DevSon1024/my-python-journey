{
 "cells": [
  {
   "cell_type": "code",
   "execution_count": null,
   "id": "9435dde1",
   "metadata": {},
   "outputs": [],
   "source": [
    "# List Methods\n",
    "# append() will add things in to the list\n",
    "l = [1,2,3,4]\n",
    "print(l)\n",
    "l.append(7)\n",
    "print(l)  "
   ]
  },
  {
   "cell_type": "code",
   "execution_count": null,
   "id": "c8db6caf",
   "metadata": {},
   "outputs": [],
   "source": [
    "# sort() will sort the list in accending order\n",
    "# sort(reverse = true) will sort list in descending order\n",
    "\n",
    "l =[11,45,1,2,4,6]\n",
    "\n",
    "l.sort()\n",
    "l.sort(reverse=True)\n",
    "print(l)"
   ]
  },
  {
   "cell_type": "code",
   "execution_count": 1,
   "id": "29bb3f90",
   "metadata": {},
   "outputs": [
    {
     "name": "stdout",
     "output_type": "stream",
     "text": [
      "[6, 4, 2, 1, 45, 11]\n"
     ]
    }
   ],
   "source": [
    "# reverse() reverse the list\n",
    "l =[11,45,1,2,4,6]\n",
    "l.reverse()\n",
    "print(l)"
   ]
  },
  {
   "cell_type": "code",
   "execution_count": null,
   "id": "5ec0f79f",
   "metadata": {},
   "outputs": [
    {
     "name": "stdout",
     "output_type": "stream",
     "text": [
      "2\n",
      "[11, 45, 1, 2, 4, 6, 1, 1, 2]\n"
     ]
    }
   ],
   "source": [
    "# index() returns the indexs of the first occurance of the list\n",
    "\n",
    "l =[11,45,1,2,4,6,1,1,2]\n",
    "print(l.index(1))\n",
    "print(l)"
   ]
  },
  {
   "cell_type": "code",
   "execution_count": 5,
   "id": "d4986b6c",
   "metadata": {},
   "outputs": [
    {
     "name": "stdout",
     "output_type": "stream",
     "text": [
      "3\n",
      "[11, 45, 1, 2, 4, 6, 1, 1, 2]\n"
     ]
    }
   ],
   "source": [
    "# count() return the count of items with the given value\n",
    "\n",
    "l =[11,45,1,2,4,6,1,1,2]\n",
    "print(l.count(1))\n",
    "print(l)"
   ]
  },
  {
   "cell_type": "code",
   "execution_count": null,
   "id": "943f32f6",
   "metadata": {},
   "outputs": [
    {
     "name": "stdout",
     "output_type": "stream",
     "text": [
      "[11, 45, 1, 2, 4, 6]\n",
      "[0, 45, 1, 2, 4, 6]\n",
      "[0, 45, 1, 2, 4, 6]\n",
      "----------------------------------\n",
      "list 'l' 1st time: [11, 45, 1, 2, 4, 6]\n",
      "list 'l' 2nd time: [11, 45, 1, 2, 4, 6]\n",
      "list 'm': [0, 45, 1, 2, 4, 6]\n"
     ]
    }
   ],
   "source": [
    "l =[11,45,1,2,4,6] #this is simple list\n",
    "print(\"list 'l' 1st time:\",l)\n",
    "\n",
    "m = l #it does not mean that we created copy of the list we just overridding the l into m, list m is going to use list l's content instead of taking reference from it\n",
    "m[0] = 0 # if we change the first object in the list m it will also changes in list l.\n",
    "print(\"list 'l' 2nd time:\",l) \n",
    "print(m)\n",
    "print(\"----------------------------------\")\n",
    "\n",
    "# so for stopping it from happening we are going to use copy ()\n",
    "# copy() will make a copy of the list instead of overwriting the list \n",
    "\n",
    "l =[11,45,1,2,4,6]\n",
    "print(\"list 'l' 1st time:\",l)\n",
    "m = l.copy() # list m become a copy of list l now\n",
    "m[0] = 0 # if we change the object in list m it will only chnaged in list m not in list l.\n",
    "print(\"list 'l' 2nd time:\",l) \n",
    "print(\"list 'm':\",m)\n",
    "\n"
   ]
  },
  {
   "cell_type": "code",
   "execution_count": null,
   "id": "1f63a15b",
   "metadata": {},
   "outputs": [],
   "source": [
    "# insert() inserts an item at the given indesx. user has to specify index and the item to be written the insert() methods\n",
    "\n",
    "l =[11,45,1,2,4,6]\n",
    "l.insert(1,899) # on index 1 we will put value 899\n",
    "print(l)"
   ]
  },
  {
   "cell_type": "code",
   "execution_count": null,
   "id": "1c1f027b",
   "metadata": {},
   "outputs": [
    {
     "name": "stdout",
     "output_type": "stream",
     "text": [
      "[11, 899, 45, 1, 2, 4, 6]\n",
      "[11, 899, 45, 1, 2, 4, 6, 900, 1000, 1100]\n"
     ]
    }
   ],
   "source": [
    "# extend() adds an entire list or any other collection datatype (set, tuple, dictionary) to the existing list\n",
    "\n",
    "l =[11,45,1,2,4,6]\n",
    "l.insert(1,899) # on index 1 we will put value 899\n",
    "print(l)\n",
    "\n",
    "m = [900,1000,1100]\n",
    "l.extend(m)\n",
    "print(l)\n"
   ]
  },
  {
   "cell_type": "code",
   "execution_count": 18,
   "id": "b4ed7cc5",
   "metadata": {},
   "outputs": [
    {
     "name": "stdout",
     "output_type": "stream",
     "text": [
      "[1, 2, 5, 6, 9, 4, 2, 2, 22, 'Bhavika', 'Madan', 'Ramesh', 'Radhika', '1', '2', '3', '4', '5']\n"
     ]
    }
   ],
   "source": [
    "# if we want concantanate two or more list inside new variable then we can do it like\n",
    "\n",
    "a = [1,2,5,6,9,4,2,2,22]\n",
    "b = [\"Bhavika\",\"Madan\",\"Ramesh\",\"Radhika\"]\n",
    "c = [\"1\",\"2\",\"3\",\"4\",\"5\"]\n",
    "\n",
    "d = a+b+c\n",
    "print(d)\n"
   ]
  }
 ],
 "metadata": {
  "kernelspec": {
   "display_name": "Python 3",
   "language": "python",
   "name": "python3"
  },
  "language_info": {
   "codemirror_mode": {
    "name": "ipython",
    "version": 3
   },
   "file_extension": ".py",
   "mimetype": "text/x-python",
   "name": "python",
   "nbconvert_exporter": "python",
   "pygments_lexer": "ipython3",
   "version": "3.13.3"
  }
 },
 "nbformat": 4,
 "nbformat_minor": 5
}
