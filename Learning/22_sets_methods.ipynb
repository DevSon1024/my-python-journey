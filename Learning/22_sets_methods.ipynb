{
 "cells": [
  {
   "cell_type": "markdown",
   "id": "4ccb5ad0",
   "metadata": {},
   "source": [
    "<h1><b>Set Methods</b></h1>\n",
    "\n",
    "**Joining Sets**\n",
    "\n",
    "- Sets in python more or less work in the same ways as sets in mathematics.\n",
    "- We can perform operations like union and inrersection on sets just like in maths.\n",
    "\n"
   ]
  },
  {
   "cell_type": "markdown",
   "id": "1da09668",
   "metadata": {},
   "source": []
  },
  {
   "cell_type": "markdown",
   "id": "59243f95",
   "metadata": {},
   "source": [
    "<h3><b>1. union() and update()</b></h3>\n",
    "\n",
    "- The union() and update() methods prints all items that are present in the two sets.\n",
    "- The union() methos return a new set whreas update() method adds item into the existing set from another set."
   ]
  },
  {
   "cell_type": "code",
   "execution_count": null,
   "id": "3da19973",
   "metadata": {},
   "outputs": [
    {
     "name": "stdout",
     "output_type": "stream",
     "text": [
      "{1, 2, 3, 4, 5, 6}\n"
     ]
    }
   ],
   "source": [
    "a = {1,2,3,4}\n",
    "b = {4,5,6}\n",
    "print(a.union(b))\n",
    "# it merges two sets and returns a new set with all unique elements (not duplicates)"
   ]
  },
  {
   "cell_type": "code",
   "execution_count": null,
   "id": "249b16fe",
   "metadata": {},
   "outputs": [
    {
     "name": "stdout",
     "output_type": "stream",
     "text": [
      "{1, 2, 3, 4, 5, 6, 7, 8} {4, 5, 6, 7, 8}\n"
     ]
    }
   ],
   "source": [
    "s1 = {1, 2, 3, 4, 5}\n",
    "s2 = {4, 5, 6, 7, 8}\n",
    "s1.update(s2)\n",
    "print(s1, s2)\n",
    "# it modifies s1 in place, s2 remains unchanged"
   ]
  },
  {
   "cell_type": "code",
   "execution_count": 3,
   "id": "54dd85d2",
   "metadata": {},
   "outputs": [
    {
     "name": "stdout",
     "output_type": "stream",
     "text": [
      "{'Los Angeles', 'Houston', 'Phoenix', 'Chicago', 'New York'}\n",
      "5\n"
     ]
    }
   ],
   "source": [
    "cities = {'New York', 'Los Angeles', 'Chicago'}\n",
    "cities2 = {'Houston', 'Phoenix', 'Chicago'}\n",
    "cities3 = cities.union(cities2)\n",
    "print(cities3)\n",
    "print(len(cities3))"
   ]
  },
  {
   "cell_type": "markdown",
   "id": "b95f7cbe",
   "metadata": {},
   "source": [
    "<h3><b>2. intersection and intersection_update()</b></h3>\n",
    "\n",
    "- The intersection() and intersection_update() methods prints only items that are similar to both sets.\n",
    "- The intesection() method returns a new set whereas intersection_update() method upadtes into the exiating set from another set."
   ]
  },
  {
   "cell_type": "code",
   "execution_count": 4,
   "id": "1cbaafb5",
   "metadata": {},
   "outputs": [
    {
     "name": "stdout",
     "output_type": "stream",
     "text": [
      "{'Surat', 'Chicago'}\n"
     ]
    }
   ],
   "source": [
    "cities = {'New York','Surat', 'Los Angeles', 'Chicago'}\n",
    "cities2 = {'Houston', 'Phoenix','Surat', 'Chicago'}\n",
    "cities3 = cities.intersection(cities2)\n",
    "print(cities3)\n",
    "# it will return a new set with elements that are common to both sets"
   ]
  },
  {
   "cell_type": "code",
   "execution_count": 8,
   "id": "a0a6a82a",
   "metadata": {},
   "outputs": [
    {
     "name": "stdout",
     "output_type": "stream",
     "text": [
      "{'Surat', 'Chicago'}\n"
     ]
    }
   ],
   "source": [
    "cities = {'New York','Surat', 'Los Angeles', 'Chicago'}\n",
    "cities2 = {'Houston', 'Phoenix','Surat', 'Chicago'}\n",
    "cities.intersection_update(cities2)\n",
    "print(cities)\n",
    "# it modifies the first set in place to keep only elements that are also in the second set"
   ]
  },
  {
   "cell_type": "markdown",
   "id": "33748462",
   "metadata": {},
   "source": [
    "<h3><b>3. symmetric_difference() and symmetric_difference_update()</b></h3>\n",
    "\n",
    "- The symmetric_difference() and symmetric_difference_update() methods prints only items that are not similar to both the sets.\n",
    "- The `symmetric_difference()` method retuns a new set whereas `symmetric_difference_update()` method updates into the existing set from another set.\n",
    "\n",
    "- <img src=\"\"></img>"
   ]
  },
  {
   "cell_type": "code",
   "execution_count": null,
   "id": "dbb59b54",
   "metadata": {},
   "outputs": [],
   "source": [
    "cities = {'New York','Surat', 'Los Angeles', 'Chicago'}\n",
    "cities2 = {'Houston', 'Phoenix','Surat', 'Chicago'}\n",
    "cities3 = cities.symmetric_difference(cities2)\n",
    "print(cities3)\n",
    "# it will return a new set with elements that are in either of the sets but not in both"
   ]
  },
  {
   "cell_type": "markdown",
   "id": "6c99d59e",
   "metadata": {},
   "source": [
    "<h3><b>4. difference() and difference_update()</b></h3>\n",
    "\n",
    "- The difference() and difference_update() methods prints only items that are only present in the original set and not in both the sets.\n",
    "- The `difference()` method returns a new set whereas `difference_update()` mrthod updates into the existing set from another set."
   ]
  },
  {
   "cell_type": "code",
   "execution_count": null,
   "id": "7fc0ef00",
   "metadata": {},
   "outputs": [
    {
     "name": "stdout",
     "output_type": "stream",
     "text": [
      "{'Los Angeles', 'New York'}\n"
     ]
    }
   ],
   "source": [
    "cities = {'New York','Surat', 'Los Angeles', 'Chicago'}\n",
    "cities2 = {'Houston', 'Phoenix','Surat', 'Chicago'}\n",
    "cities3 = cities.difference(cities2)\n",
    "print(cities3)\n",
    "# it will return a new set with elements that are in the first set but not in the second set"
   ]
  },
  {
   "cell_type": "markdown",
   "id": "5cfb6c2b",
   "metadata": {},
   "source": [
    "### <b>More Set Methods</b>\n",
    "\n",
    "> There are several in built methods used for the manipulation of set. They are explained below.\n",
    "\n",
    "**isdisjoint()**\n",
    "\n",
    "- The isdisjoint() method checks if items of given set are present in another set. \n",
    "- This method returns False if items are present, else it returns True.\n"
   ]
  },
  {
   "cell_type": "code",
   "execution_count": null,
   "id": "4710b1f2",
   "metadata": {},
   "outputs": [
    {
     "name": "stdout",
     "output_type": "stream",
     "text": [
      "True\n"
     ]
    }
   ],
   "source": [
    "cities = {'New York','Surat', 'Los Angeles', 'Chicago'}\n",
    "cities2 = {'Houston', 'Phoenix','Surat', 'Chicago'}\n",
    "# cities2 = {'Houston', 'Phoenix','Surat2', 'Chicago2'}\n",
    "\n",
    "print(cities.isdisjoint(cities2))\n",
    "# it will check if two sets have no elements in common and returns True if they are disjoint, otherwise False"
   ]
  },
  {
   "cell_type": "markdown",
   "id": "5feb77e3",
   "metadata": {},
   "source": [
    "**issuperset()**\n",
    "- The issuperset() method checks if all the items of a particular set are present in the original set.\n",
    "- It return True if all items are present, else it returns False."
   ]
  },
  {
   "cell_type": "code",
   "execution_count": null,
   "id": "ea733ebb",
   "metadata": {},
   "outputs": [
    {
     "name": "stdout",
     "output_type": "stream",
     "text": [
      "False\n",
      "True\n"
     ]
    }
   ],
   "source": [
    "cities = {\"Tokyo\", \"Madrid\", \"Berlin\", \"Delhi\"}\n",
    "cities2 = {\"Seoul\",\"Kabul\"}\n",
    "print(cities.issuperset(cities2))\n",
    "cities3 = {\"Tokyo\",\"Madrid\",\"Delhi\"}\n",
    "print(cities.issuperset(cities3))\n",
    "\n",
    "# it checks if the first set contains all elements of the second set and returns True if it does, otherwise False"
   ]
  },
  {
   "cell_type": "markdown",
   "id": "5befe92b",
   "metadata": {},
   "source": [
    "**issubset()**\n",
    "- The issubset() method checks if all items of the original set are present in the particular set.\n",
    "- It returns True if all the items are present, else it returns False."
   ]
  },
  {
   "cell_type": "code",
   "execution_count": 8,
   "id": "315a6c38",
   "metadata": {},
   "outputs": [
    {
     "name": "stdout",
     "output_type": "stream",
     "text": [
      "False\n",
      "True\n"
     ]
    }
   ],
   "source": [
    "cities = {\"Tokyo\", \"Madrid\",\"Berlin\", \"Delhi\"}\n",
    "cities2 = {\"Delhi\", \"Madrid\"}\n",
    "print(cities.issubset(cities2))\n",
    "print(cities2.issubset(cities))\n",
    "# it checks if the first set is a subset of the second set and returns True if it is, otherwise False"
   ]
  },
  {
   "cell_type": "markdown",
   "id": "a5ad3696",
   "metadata": {},
   "source": [
    "**add()**\n",
    "- If you want to add a single item to the set use the add() method"
   ]
  },
  {
   "cell_type": "code",
   "execution_count": 9,
   "id": "7b6a4033",
   "metadata": {},
   "outputs": [
    {
     "name": "stdout",
     "output_type": "stream",
     "text": [
      "{'Madrid', 'Delhi', 'Berlin', 'Tokyo', 'Mumbai'}\n"
     ]
    }
   ],
   "source": [
    "cities = {\"Tokyo\", \"Madrid\",\"Berlin\", \"Delhi\"}\n",
    "cities.add(\"Mumbai\")\n",
    "print(cities)\n",
    "# it adds an element to the set, if the element is already present, it does nothing"
   ]
  },
  {
   "cell_type": "markdown",
   "id": "07f36a11",
   "metadata": {},
   "source": [
    "**update()**\n",
    "- If we want to add more than one item, simply create another set or any other iterable object(list, tuple, dictionary) and use the update() method to add it into the existing set"
   ]
  },
  {
   "cell_type": "code",
   "execution_count": 11,
   "id": "7edb504e",
   "metadata": {},
   "outputs": [
    {
     "name": "stdout",
     "output_type": "stream",
     "text": [
      "{'Madrid', 'Delhi', 'Berlin', 'Dhule', 'Tokyo', 'Mumbai'}\n"
     ]
    }
   ],
   "source": [
    "cities = {\"Tokyo\", \"Madrid\",\"Berlin\", \"Delhi\"}\n",
    "cities2 = {\"Mumbai\", \"Dhule\"}\n",
    "cities.update(cities2)\n",
    "print(cities)"
   ]
  },
  {
   "cell_type": "markdown",
   "id": "05c1e228",
   "metadata": {},
   "source": [
    "**remove()/descard()**\n",
    "- we can use remove() and discard() methods to remove items from list."
   ]
  },
  {
   "cell_type": "code",
   "execution_count": 12,
   "id": "168a3227",
   "metadata": {},
   "outputs": [
    {
     "name": "stdout",
     "output_type": "stream",
     "text": [
      "{'Los Angeles', 'New York', 'Chicago'}\n"
     ]
    }
   ],
   "source": [
    "cities = {'New York','Surat', 'Los Angeles', 'Chicago'}\n",
    "cities.remove('Surat')\n",
    "print(cities)\n",
    "# it removes an element from the set, raises KeyError if the element is not found"
   ]
  },
  {
   "cell_type": "markdown",
   "id": "7fdbe1e0",
   "metadata": {},
   "source": [
    "- The main difference between remove and discard is that, if we try to delte an item which is not present in set, then remove() raises an error, whereas discard() does not raise any error"
   ]
  },
  {
   "cell_type": "code",
   "execution_count": null,
   "id": "2e60b2b9",
   "metadata": {},
   "outputs": [
    {
     "name": "stdout",
     "output_type": "stream",
     "text": [
      "{'Surat', 'Los Angeles', 'New York', 'Chicago'}\n"
     ]
    }
   ],
   "source": [
    "cities = {'New York','Surat', 'Los Angeles', 'Chicago'}\n",
    "cities.remove('Surat2') # This will raise KeyError since 'Surat2' is not in the set\n",
    "# cities.discard('Surat2')\n",
    "# This will not raise an error, it will simply do nothing\n",
    "print(cities)\n"
   ]
  },
  {
   "cell_type": "markdown",
   "id": "44bc1db8",
   "metadata": {},
   "source": [
    "**pop()**\n",
    "- This method removes th last item of the set but the catch is that we don't know which item gets popped as sets are unordered.\n",
    "- However, we can access the popped item if we assign the pop() method to a variable."
   ]
  },
  {
   "cell_type": "code",
   "execution_count": 16,
   "id": "c39af8f7",
   "metadata": {},
   "outputs": [
    {
     "name": "stdout",
     "output_type": "stream",
     "text": [
      "{'Los Angeles', 'New York', 'Chicago'}\n",
      "Surat\n"
     ]
    }
   ],
   "source": [
    "cities = {'New York','Surat', 'Los Angeles', 'Chicago'}\n",
    "item = cities.pop()\n",
    "print(cities)\n",
    "print(item)"
   ]
  },
  {
   "cell_type": "markdown",
   "id": "a96d7152",
   "metadata": {},
   "source": [
    "**del**\n",
    "- del is not methid, rather it is a keyword which deletes the set entirely."
   ]
  },
  {
   "cell_type": "code",
   "execution_count": null,
   "id": "a099eca6",
   "metadata": {},
   "outputs": [
    {
     "ename": "NameError",
     "evalue": "name 'cities' is not defined",
     "output_type": "error",
     "traceback": [
      "\u001b[31m---------------------------------------------------------------------------\u001b[39m",
      "\u001b[31mNameError\u001b[39m                                 Traceback (most recent call last)",
      "\u001b[36mCell\u001b[39m\u001b[36m \u001b[39m\u001b[32mIn[17]\u001b[39m\u001b[32m, line 3\u001b[39m\n\u001b[32m      1\u001b[39m cities = {\u001b[33m'\u001b[39m\u001b[33mNew York\u001b[39m\u001b[33m'\u001b[39m,\u001b[33m'\u001b[39m\u001b[33mSurat\u001b[39m\u001b[33m'\u001b[39m, \u001b[33m'\u001b[39m\u001b[33mLos Angeles\u001b[39m\u001b[33m'\u001b[39m, \u001b[33m'\u001b[39m\u001b[33mChicago\u001b[39m\u001b[33m'\u001b[39m}\n\u001b[32m      2\u001b[39m \u001b[38;5;28;01mdel\u001b[39;00m cities\n\u001b[32m----> \u001b[39m\u001b[32m3\u001b[39m \u001b[38;5;28mprint\u001b[39m(\u001b[43mcities\u001b[49m)\n",
      "\u001b[31mNameError\u001b[39m: name 'cities' is not defined"
     ]
    }
   ],
   "source": [
    "cities = {'New York','Surat', 'Los Angeles', 'Chicago'}\n",
    "del cities\n",
    "print(cities) # This will raise a NameError since 'cities' is deleted and no longer exists"
   ]
  },
  {
   "cell_type": "markdown",
   "id": "3ca75ada",
   "metadata": {},
   "source": [
    "> what if we don't want to delete entire set, we just want to delete all items within that set.\n",
    "\n",
    "**clear()**\n",
    "- This method clears all items in the set and prints an empty set."
   ]
  },
  {
   "cell_type": "code",
   "execution_count": 18,
   "id": "eacfe52a",
   "metadata": {},
   "outputs": [
    {
     "name": "stdout",
     "output_type": "stream",
     "text": [
      "set()\n"
     ]
    }
   ],
   "source": [
    "cities = {'New York','Surat', 'Los Angeles', 'Chicago'}\n",
    "cities.clear()\n",
    "# it removes all elements from the set, leaving it empty\n",
    "print(cities)"
   ]
  }
 ],
 "metadata": {
  "kernelspec": {
   "display_name": "Python 3",
   "language": "python",
   "name": "python3"
  },
  "language_info": {
   "codemirror_mode": {
    "name": "ipython",
    "version": 3
   },
   "file_extension": ".py",
   "mimetype": "text/x-python",
   "name": "python",
   "nbconvert_exporter": "python",
   "pygments_lexer": "ipython3",
   "version": "3.13.3"
  }
 },
 "nbformat": 4,
 "nbformat_minor": 5
}
