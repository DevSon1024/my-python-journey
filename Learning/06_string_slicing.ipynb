{
 "cells": [
  {
   "cell_type": "markdown",
   "id": "5807395f",
   "metadata": {},
   "source": [
    "### <b>String Slicing & Operations on String</b>\n",
    "\n",
    "<h3><b>Length of a String</b></h3>\n",
    "\n",
    "- We can fing the length of a string using `len()` function.\n",
    "\n"
   ]
  },
  {
   "cell_type": "code",
   "execution_count": 1,
   "id": "258116b8",
   "metadata": {},
   "outputs": [
    {
     "name": "stdout",
     "output_type": "stream",
     "text": [
      "Devson\n",
      "16\n"
     ]
    }
   ],
   "source": [
    "# String slicing and Operatioins on Strings\n",
    "# it takes the value from start:end but do not include end.\n",
    "names = \"Devson, Bhargavi\"\n",
    "print(names[0:6])\n",
    "print(len(names))"
   ]
  },
  {
   "cell_type": "code",
   "execution_count": null,
   "id": "f36cb3a2",
   "metadata": {},
   "outputs": [
    {
     "name": "stdout",
     "output_type": "stream",
     "text": [
      "6\n",
      "Bana\n",
      "ana\n",
      "Banana\n",
      "Ban\n"
     ]
    }
   ],
   "source": [
    "fruit = \"Banana\"\n",
    "banLength = len(fruit)\n",
    "print(banLength)\n",
    "print(fruit[0:4])\n",
    "print(fruit[1:4])\n",
    "print(fruit[:7])\n",
    "print(fruit[0:-3]) \n"
   ]
  },
  {
   "cell_type": "markdown",
   "id": "2993e9ed",
   "metadata": {},
   "source": [
    "- in above Example from `print(fruit[0:-3])`, we got the output 'Ban'\n",
    "- means we got answer same as `print(fruit[0:4])` \n",
    "- because `print(fruit[0:-3])` simply means print(fruit[0:len(fruit)-3])\n",
    "- for example, it abstract 3 ou of total length of the string and give the rest of the string as it is.\n",
    "- total length_of_string - 3\n",
    "- 6-3 = 3 \n",
    "- it will print first 3 characters"
   ]
  },
  {
   "cell_type": "code",
   "execution_count": 3,
   "id": "d8da13f7",
   "metadata": {},
   "outputs": [
    {
     "name": "stdout",
     "output_type": "stream",
     "text": [
      "an\n"
     ]
    }
   ],
   "source": [
    "fruit = \"Banana\"\n",
    "banLength = len(fruit)\n",
    "print(fruit[-3:-1])"
   ]
  },
  {
   "cell_type": "markdown",
   "id": "2c0374d1",
   "metadata": {},
   "source": [
    "- now in this above example code we can see that it start from -3 means\n",
    "> 6-3 = 3   \n",
    "- and ends at -1 means   \n",
    "> 6-1 = 5   \n",
    "- means 3:5\n",
    "- print(fruit[3:5]) this has the same output as -3:-1 the output "
   ]
  },
  {
   "cell_type": "code",
   "execution_count": null,
   "id": "ea4a5de3",
   "metadata": {},
   "outputs": [],
   "source": [
    "# Quick Quiz\n",
    "# the answer should be 'ar'\n",
    "\n",
    "nm = \"Harry\"\n",
    "print(nm[-4:-2])"
   ]
  }
 ],
 "metadata": {
  "kernelspec": {
   "display_name": "Python 3",
   "language": "python",
   "name": "python3"
  },
  "language_info": {
   "codemirror_mode": {
    "name": "ipython",
    "version": 3
   },
   "file_extension": ".py",
   "mimetype": "text/x-python",
   "name": "python",
   "nbconvert_exporter": "python",
   "pygments_lexer": "ipython3",
   "version": "3.13.3"
  }
 },
 "nbformat": 4,
 "nbformat_minor": 5
}
