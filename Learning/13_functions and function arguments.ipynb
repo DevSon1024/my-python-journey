{
 "cells": [
  {
   "cell_type": "markdown",
   "id": "dc960ed9",
   "metadata": {},
   "source": [
    "# <b>function in python</b>"
   ]
  },
  {
   "cell_type": "code",
   "execution_count": null,
   "id": "dc7d7278",
   "metadata": {},
   "outputs": [
    {
     "name": "stdout",
     "output_type": "stream",
     "text": [
      "5.625\n",
      "Second number is greate or equal\n"
     ]
    }
   ],
   "source": [
    "def calculateGmean(a,b):\n",
    "    mean = (a*b)/(a+b)\n",
    "    print(mean)\n",
    "    \n",
    "def isGreater(sem1,sem2):\n",
    "    if(sem1>sem2):\n",
    "        print(\"First Number is Greater\")\n",
    "    else:\n",
    "        print(\"Second number is greate or equal\")\n",
    "        \n",
    "a = 9\n",
    "b = 15\n",
    "\n",
    "isGreater(a,b)\n",
    "calculateGmean(a,b) "
   ]
  },
  {
   "cell_type": "code",
   "execution_count": 3,
   "id": "09f51c68",
   "metadata": {},
   "outputs": [],
   "source": [
    "# just declare the function for future use and we'll pass it like,\n",
    "\n",
    "def islesser(f,s):\n",
    "    pass"
   ]
  },
  {
   "cell_type": "code",
   "execution_count": 7,
   "id": "dbaa94ee",
   "metadata": {},
   "outputs": [
    {
     "name": "stdout",
     "output_type": "stream",
     "text": [
      "Hello, Dev Son\n",
      "Hello, Dev Son\n"
     ]
    }
   ],
   "source": [
    "def name(fname, lname):\n",
    "    print(f\"Hello, {fname} {lname}\")\n",
    "    print(\"Hello,\",fname,lname) #both will print same output\n",
    "    \n",
    "name(\"Dev\",\"Son\")"
   ]
  },
  {
   "cell_type": "markdown",
   "id": "f487d69a",
   "metadata": {},
   "source": [
    "### <b>function argurments</b>\n",
    "\n",
    "> There are four type arguemwnts that we can provide in a fucntion\n",
    "- Default Arguments\n",
    "- Keyword Arguments\n",
    "- Required Arguments\n",
    "- Variable Arguments"
   ]
  },
  {
   "cell_type": "code",
   "execution_count": null,
   "id": "f9a51341",
   "metadata": {},
   "outputs": [],
   "source": [
    "def average(a,b):\n",
    "    print(\"The average is\" + (a+b)/2)\n",
    "    \n",
    "average(4,6)"
   ]
  },
  {
   "cell_type": "markdown",
   "id": "f0847ad9",
   "metadata": {},
   "source": [
    "### <b>1.Default Arguments</b>\n",
    "\n",
    "- we can provide a default value while creating a function. \n",
    "This way the function assumes a default value even if a value \n",
    "is not provided in the function call for that argument.\n",
    "\n",
    "- even if we do not provide any value but decalred one in \n",
    "function than it will be automatically taken from default \n",
    "values. like, John Whatson"
   ]
  },
  {
   "cell_type": "code",
   "execution_count": null,
   "id": "88dbb092",
   "metadata": {},
   "outputs": [
    {
     "name": "stdout",
     "output_type": "stream",
     "text": [
      "Hello, Mr. John Whatson\n"
     ]
    }
   ],
   "source": [
    "def name(fname, mname = \"John\", lname = \"Whatson\"):\n",
    "    print(\"Hello,\",fname,mname,lname)\n",
    "\n",
    "name(\"Mr.\")"
   ]
  },
  {
   "cell_type": "markdown",
   "id": "b8f1e14b",
   "metadata": {},
   "source": [
    "### <b>2.Keyword Arguments</b>\n",
    "\n",
    "- We can provide arguments with `key = value` pairs, this way the \n",
    "- iterpreter recognizes the arguments by the parameter name.\n",
    "- Hence, the order in which th earguments are passed does not matter"
   ]
  },
  {
   "cell_type": "code",
   "execution_count": null,
   "id": "1e2f5b59",
   "metadata": {},
   "outputs": [
    {
     "name": "stdout",
     "output_type": "stream",
     "text": [
      "Hello Mr Peter Parker\n"
     ]
    }
   ],
   "source": [
    "def name(fname, mname, lname):\n",
    "    print(\"Hello\", fname,mname,lname)\n",
    "\n",
    "name(mname = \"Peter\", lname = \"Parker\", fname = \"Mr\")"
   ]
  },
  {
   "cell_type": "markdown",
   "id": "64854fd9",
   "metadata": {},
   "source": [
    "### <b>3.Required Arguments</b>\n",
    "\n",
    "- In case we can't pass the arguments with a key = value syntax,\n",
    "then it is nacessary to pass the arguments in the correct \n",
    "positional order and the number of arguments passed should \n",
    "match with actual function defination.\n",
    "> Example 1: when number of argumets passed does not match to the actual function defination"
   ]
  },
  {
   "cell_type": "code",
   "execution_count": null,
   "id": "643775d4",
   "metadata": {},
   "outputs": [
    {
     "name": "stdout",
     "output_type": "stream",
     "text": [
      "Hello, Mr. Peter Parker\n"
     ]
    }
   ],
   "source": [
    "def name(fname, mname, lname):\n",
    "     print(\"Hello,\" ,fname,mname,lname)\n",
    "    \n",
    "name(\"Peter\",\"Parker\") # Throw Exception \n",
    "\n",
    "# exmaple 1 will throw error because the on value in not provided even though we declared three values in the function "
   ]
  },
  {
   "cell_type": "markdown",
   "id": "1b322f0e",
   "metadata": {},
   "source": [
    "> Example 2: when number of arguments passed matched to the actual function defination"
   ]
  },
  {
   "cell_type": "code",
   "execution_count": 2,
   "id": "2c203db6",
   "metadata": {},
   "outputs": [
    {
     "name": "stdout",
     "output_type": "stream",
     "text": [
      "Hello, Mr. Peter Parker\n"
     ]
    }
   ],
   "source": [
    "def name(fname, mname, lname):\n",
    "    print(\"Hello,\" ,fname,mname,lname)\n",
    "    \n",
    "name(\"Mr.\",\"Peter\",\"Parker\") # so not Throw Exception"
   ]
  },
  {
   "cell_type": "markdown",
   "id": "be0def89",
   "metadata": {},
   "source": [
    "### <b>4.variable-length argument</b>\n",
    "- sometimes we may need to pass more argyments than those defined in the actual function. this can be done using variable length arguments.\n",
    "- we can take multiple values for the calculation or anwers."
   ]
  },
  {
   "cell_type": "code",
   "execution_count": null,
   "id": "625169f3",
   "metadata": {},
   "outputs": [
    {
     "name": "stdout",
     "output_type": "stream",
     "text": [
      "Average is:  4.857142857142857\n"
     ]
    }
   ],
   "source": [
    "def average(*numbers):\n",
    "    sum = 0\n",
    "    for i in numbers:\n",
    "        sum = sum+i\n",
    "    print(\"Average is: \", sum/len(numbers))\n",
    "    \n",
    "average(5,6,5,6,5,2,5)"
   ]
  },
  {
   "cell_type": "markdown",
   "id": "c36006a8",
   "metadata": {},
   "source": [
    "> return Statement\n",
    "- the return statement is used to return the value of the expression back to the calling function"
   ]
  },
  {
   "cell_type": "code",
   "execution_count": null,
   "id": "87ae9ecb",
   "metadata": {},
   "outputs": [
    {
     "name": "stdout",
     "output_type": "stream",
     "text": [
      "4.857142857142857\n"
     ]
    }
   ],
   "source": [
    "def average(*numbers):\n",
    "    sum = 0\n",
    "    for i in numbers:\n",
    "        sum = sum+i\n",
    "    return sum/len(numbers)\n",
    "\n",
    "c = average(5,6,5,6,5,2,5)\n",
    "print(c)"
   ]
  }
 ],
 "metadata": {
  "kernelspec": {
   "display_name": "Python 3",
   "language": "python",
   "name": "python3"
  },
  "language_info": {
   "codemirror_mode": {
    "name": "ipython",
    "version": 3
   },
   "file_extension": ".py",
   "mimetype": "text/x-python",
   "name": "python",
   "nbconvert_exporter": "python",
   "pygments_lexer": "ipython3",
   "version": "3.13.3"
  }
 },
 "nbformat": 4,
 "nbformat_minor": 5
}
