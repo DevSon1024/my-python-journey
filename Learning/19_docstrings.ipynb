{
 "cells": [
  {
   "cell_type": "markdown",
   "id": "b27e1b00",
   "metadata": {},
   "source": [
    "**Docstrings in python**\n",
    "- Python docstrings are the string literals that appear right after the defination of a function, method, class or module"
   ]
  },
  {
   "cell_type": "code",
   "execution_count": 10,
   "id": "54d392dd",
   "metadata": {},
   "outputs": [
    {
     "name": "stdout",
     "output_type": "stream",
     "text": [
      "25\n",
      "Takes in a number n, returns the square of n.\n"
     ]
    }
   ],
   "source": [
    "def square(n):\n",
    "    '''Takes in a number n, returns the square of n.'''\n",
    "    # above is a docstring\n",
    "    print(n**2)\n",
    "square(5)\n",
    "print(square.__doc__)  # prints the docstring of the function"
   ]
  },
  {
   "cell_type": "markdown",
   "id": "8a236377",
   "metadata": {},
   "source": [
    "**<h3>Python Comments VS Docstrings</h3>**\n",
    "\n",
    "> Python Comments:\n",
    "- Comments are descriptions that help programers better understand the intent and functionality of the program. They are completely ignored by the python iterpreter.\n",
    "> Python docstrings:\n",
    "- As Mentioned above, Python doctrings are strings used right after the defination of a function, method class or module (like in Example 1). They are used to document our code.\n",
    "- we can access those docstrings using the doc attribute"
   ]
  },
  {
   "cell_type": "code",
   "execution_count": 11,
   "id": "af1d1795",
   "metadata": {},
   "outputs": [
    {
     "name": "stdout",
     "output_type": "stream",
     "text": [
      "5\n",
      "25\n",
      "None\n"
     ]
    }
   ],
   "source": [
    "# if we write something else before the docstring, it will not be considered a docstring e.g. a print statement\n",
    "def square(n):\n",
    "    print(n)\n",
    "    '''Takes in a number n, returns the square of n.'''\n",
    "    # above is a docstring\n",
    "    print(n**2)\n",
    "square(5)\n",
    "print(square.__doc__)  # prints the docstring of the function"
   ]
  },
  {
   "cell_type": "markdown",
   "id": "ebbb3495",
   "metadata": {},
   "source": [
    "<h1>Zen of Python </h1>\n",
    "\n",
    "- Long Time Pythoneer Time Peters succunctly channels the BDFL's guidng principles for python's design into 20 aphorisms, onlu 19 of which have been written down"
   ]
  },
  {
   "cell_type": "code",
   "execution_count": 12,
   "id": "5582f53e",
   "metadata": {},
   "outputs": [],
   "source": [
    "# easter egg from Python\n",
    "# run this in the terminal or anywhere which uses Python\n"
   ]
  },
  {
   "cell_type": "code",
   "execution_count": 1,
   "id": "375460a1",
   "metadata": {},
   "outputs": [
    {
     "name": "stdout",
     "output_type": "stream",
     "text": [
      "The Zen of Python, by Tim Peters\n",
      "\n",
      "Beautiful is better than ugly.\n",
      "Explicit is better than implicit.\n",
      "Simple is better than complex.\n",
      "Complex is better than complicated.\n",
      "Flat is better than nested.\n",
      "Sparse is better than dense.\n",
      "Readability counts.\n",
      "Special cases aren't special enough to break the rules.\n",
      "Although practicality beats purity.\n",
      "Errors should never pass silently.\n",
      "Unless explicitly silenced.\n",
      "In the face of ambiguity, refuse the temptation to guess.\n",
      "There should be one-- and preferably only one --obvious way to do it.\n",
      "Although that way may not be obvious at first unless you're Dutch.\n",
      "Now is better than never.\n",
      "Although never is often better than *right* now.\n",
      "If the implementation is hard to explain, it's a bad idea.\n",
      "If the implementation is easy to explain, it may be a good idea.\n",
      "Namespaces are one honking great idea -- let's do more of those!\n"
     ]
    }
   ],
   "source": [
    "import this"
   ]
  }
 ],
 "metadata": {
  "kernelspec": {
   "display_name": "Python 3",
   "language": "python",
   "name": "python3"
  },
  "language_info": {
   "codemirror_mode": {
    "name": "ipython",
    "version": 3
   },
   "file_extension": ".py",
   "mimetype": "text/x-python",
   "name": "python",
   "nbconvert_exporter": "python",
   "pygments_lexer": "ipython3",
   "version": "3.13.3"
  }
 },
 "nbformat": 4,
 "nbformat_minor": 5
}
