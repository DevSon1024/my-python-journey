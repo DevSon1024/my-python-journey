{
 "cells": [
  {
   "cell_type": "markdown",
   "id": "40626b55",
   "metadata": {},
   "source": [
    "### <b>Pythin Sets</b>\n",
    "- Sets are unordered collection of data items.\n",
    "- They store multiple items in a single variable. \n",
    "- Set items are separated by commas and enlcosed within curly brackets {}.\n",
    "- Sets are unchangeable, meaning you cannot change items of the set once created.\n",
    "- Sets do not containe duplicate items."
   ]
  },
  {
   "cell_type": "code",
   "execution_count": 2,
   "id": "1ad02bec",
   "metadata": {},
   "outputs": [
    {
     "name": "stdout",
     "output_type": "stream",
     "text": [
      "{2, 4, 6}\n"
     ]
    }
   ],
   "source": [
    "s = {2,4,2,6}\n",
    "print(s)\n",
    "# Output: {2, 4, 6}\n",
    "# The set automatically removes duplicates and keeps only unique elements."
   ]
  },
  {
   "cell_type": "code",
   "execution_count": 3,
   "id": "ad7fb069",
   "metadata": {},
   "outputs": [
    {
     "name": "stdout",
     "output_type": "stream",
     "text": [
      "{False, 2.5, (1, 2), 2, 4, 'hello'}\n"
     ]
    }
   ],
   "source": [
    "# we can also add multiple datatypes into the set\n",
    "\n",
    "s = {2, 4, 2.5, 'hello', (1, 2), False}\n",
    "print(s)"
   ]
  },
  {
   "cell_type": "markdown",
   "id": "7ab692cb",
   "metadata": {},
   "source": [
    "- in above example we see that the items of set occur in random order and hence they cannot be accessed using index numbers. also sets do not allow duplicate values .\n",
    "\n",
    "> Quick Quiz: Try to an empty set. Check using the type() function whether the type of our variable is set"
   ]
  },
  {
   "cell_type": "code",
   "execution_count": null,
   "id": "2e5388d6",
   "metadata": {},
   "outputs": [
    {
     "name": "stdout",
     "output_type": "stream",
     "text": [
      "<class 'dict'>\n"
     ]
    }
   ],
   "source": [
    "s = {}\n",
    "print(type(s))\n",
    "\n",
    "# for creating an empty set, we must use the set() constructor\n",
    "s_two = set() \n",
    "print(type(s_two))\n"
   ]
  },
  {
   "cell_type": "markdown",
   "id": "ebb8adbd",
   "metadata": {},
   "source": [
    "**Accessing set items:**\n",
    "\n",
    "> Using For Loop\n",
    "\n",
    "- we can access items of set using a for loop"
   ]
  },
  {
   "cell_type": "code",
   "execution_count": 5,
   "id": "23c18bc4",
   "metadata": {},
   "outputs": [
    {
     "name": "stdout",
     "output_type": "stream",
     "text": [
      "False\n",
      "19\n",
      "5.9\n",
      "Carla\n"
     ]
    }
   ],
   "source": [
    "info = {\"Carla\", 19, False, 5.9}\n",
    "for item in info:\n",
    "    print(item)"
   ]
  },
  {
   "cell_type": "code",
   "execution_count": null,
   "id": "2245ab1a",
   "metadata": {},
   "outputs": [],
   "source": []
  }
 ],
 "metadata": {
  "kernelspec": {
   "display_name": "Python 3",
   "language": "python",
   "name": "python3"
  },
  "language_info": {
   "codemirror_mode": {
    "name": "ipython",
    "version": 3
   },
   "file_extension": ".py",
   "mimetype": "text/x-python",
   "name": "python",
   "nbconvert_exporter": "python",
   "pygments_lexer": "ipython3",
   "version": "3.13.3"
  }
 },
 "nbformat": 4,
 "nbformat_minor": 5
}
