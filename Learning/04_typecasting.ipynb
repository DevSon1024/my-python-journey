{
 "cells": [
  {
   "cell_type": "markdown",
   "id": "226c9851",
   "metadata": {},
   "source": [
    "## <b>Typecasting in Python</b>\n",
    "- The conversopm of one datatype into other data type is known as type casting in python or type conversion in python"
   ]
  },
  {
   "cell_type": "code",
   "execution_count": null,
   "id": "8e26312e",
   "metadata": {},
   "outputs": [
    {
     "name": "stdout",
     "output_type": "stream",
     "text": [
      "1020\n",
      "30\n"
     ]
    }
   ],
   "source": [
    "a = \"10\"\n",
    "b = \"20\"\n",
    "print(a + b)  # This will concatenate the strings \"10\" and \"20\" \n",
    "# Output: 1020\n",
    "print(int(a)+int(b))\n",
    "# Output: 30"
   ]
  },
  {
   "cell_type": "markdown",
   "id": "18499478",
   "metadata": {},
   "source": [
    "## <b>Types of Typecasting:</b>\n",
    "### <b>Implicit:</b>\n",
    "- Python does the conversion of the datatypes in below example `c` is `float` and `d` is `integer`.\n",
    "- For performing operation in the numbers we need same datatypes so python automatically changes the `int` datatype to match the level of float and as we get the answer in float number."
   ]
  },
  {
   "cell_type": "code",
   "execution_count": 2,
   "id": "32c5de0b",
   "metadata": {},
   "outputs": [
    {
     "name": "stdout",
     "output_type": "stream",
     "text": [
      "9.9\n"
     ]
    }
   ],
   "source": [
    "c=1.9\n",
    "d=8\n",
    "print(c+d) # uotput: 9.9"
   ]
  },
  {
   "cell_type": "markdown",
   "id": "aec589fd",
   "metadata": {},
   "source": [
    "### <b>Explicit:</b>\n",
    "- User himself do the coversion.\n",
    "- The first example also same where we change the datatype as per the need."
   ]
  },
  {
   "cell_type": "code",
   "execution_count": 3,
   "id": "31ee9b0a",
   "metadata": {},
   "outputs": [
    {
     "name": "stdout",
     "output_type": "stream",
     "text": [
      "The Sum of both numbers is: 22\n"
     ]
    }
   ],
   "source": [
    "string = \"15\"\n",
    "number = 7\n",
    "string_number = int(string)\n",
    "\n",
    "sum =number + string_number\n",
    "print(\"The Sum of both numbers is:\",sum)"
   ]
  }
 ],
 "metadata": {
  "kernelspec": {
   "display_name": "Python 3",
   "language": "python",
   "name": "python3"
  },
  "language_info": {
   "codemirror_mode": {
    "name": "ipython",
    "version": 3
   },
   "file_extension": ".py",
   "mimetype": "text/x-python",
   "name": "python",
   "nbconvert_exporter": "python",
   "pygments_lexer": "ipython3",
   "version": "3.13.3"
  }
 },
 "nbformat": 4,
 "nbformat_minor": 5
}
