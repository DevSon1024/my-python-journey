{
 "cells": [
  {
   "cell_type": "markdown",
   "id": "a9ba38da",
   "metadata": {},
   "source": [
    "**if else conditional statements**\n",
    "\n",
    "if a person's age is greater than 18 than he can drive or not drive\n",
    "\n",
    "**Conditional Operators:**\n",
    "\n",
    "- >\"> greater than\"\n",
    "- >\"< less than\"\n",
    "- >\">= greater than or eqaul to\"\n",
    "- >\"<= less than or equal to\"\n",
    "- >\"== eqaul to\"\n",
    "- >\"!= not eqaul to\""
   ]
  },
  {
   "cell_type": "code",
   "execution_count": null,
   "id": "a59fbbe4",
   "metadata": {},
   "outputs": [],
   "source": [
    "a= int(input(\"Enter your age: \"))\n",
    "print(\"your age is: \",a)\n",
    "\n",
    "print(\"is number greater than 18:\",a>18)\n",
    "print(\"is number less than eqaul to 18:\",a<=18)\n",
    "print(\"is number eqaul to 18:\",a==18)\n",
    "print(\"is number not equal to 18:\",a!=18)\n",
    "\n",
    "# ':' colon are used to start a new block in python which called indentation it is like { } in c or java language\n",
    "'''\n",
    "we've write two extra print for example yaay1 and yaay2\n",
    "so yaay2 print as it is, it does not matter with statement\n",
    "but yaay1 is in else block so when the age is greate than\n",
    "18 only than it will print.\n",
    "'''\n",
    "\n",
    "if(a>18):\n",
    "    print(\"you can drive\")\n",
    "else:\n",
    "    print(\"You cannot drive\")\n",
    "    print(\"YAAAY 1\")\n",
    "print(\"YAAAY 2\")\n",
    "    \n"
   ]
  },
  {
   "cell_type": "code",
   "execution_count": 2,
   "id": "83e8c0b7",
   "metadata": {},
   "outputs": [
    {
     "name": "stdout",
     "output_type": "stream",
     "text": [
      "Alexa, do not add apples to the cart.\n"
     ]
    }
   ],
   "source": [
    "applePrice = 210\n",
    "budget = 200\n",
    "if (applePrice <= budget):\n",
    "    print(\"Alexa, add 1 kg apples to the cart.\")\n",
    "else:\n",
    "    print(\"Alexa, do not add apples to the cart.\")\n",
    "# if budget appleprice is less than budget than buy else do not buy\n",
    "\n"
   ]
  },
  {
   "cell_type": "markdown",
   "id": "7e9361a2",
   "metadata": {},
   "source": [
    "**Elif Example**\n",
    "\n",
    "- here if number is less than 0 than it will print -\"negative\"\n",
    "- other condition if number number is not positive and -equals to 0 than it is 0\n",
    "otherwise (else) it is positive.\n",
    "**i have written print in formatted string**"
   ]
  },
  {
   "cell_type": "code",
   "execution_count": null,
   "id": "7b40b60e",
   "metadata": {},
   "outputs": [
    {
     "name": "stdout",
     "output_type": "stream",
     "text": [
      "-45 is negative.\n"
     ]
    }
   ],
   "source": [
    "num = int(input(\"enter the Value of num: \"))\n",
    "if (num < 0):\n",
    "    print(f\"{num} is negative.\")\n",
    "elif (num == 0):\n",
    "    print(f\"{num} is Zero.\")\n",
    "else:\n",
    "    print(f\"{num} is positive.\")"
   ]
  },
  {
   "cell_type": "markdown",
   "id": "cb9e505f",
   "metadata": {},
   "source": [
    "**Nested if else Example**\n",
    "\n",
    "> in this program we have number 18 as value which is positive conditions are:\n",
    "\n",
    "- if 18 is less than 0 that it is negative\n",
    "or\n",
    "- if 18 is greater 0 tha we add more conditions instead of just writing positive\n",
    "- that if 18 is less than 10 so it is between 1 to 10\n",
    "- or if 18 greater than 10 less than equal to 20 than it is between 10-20\n",
    "- else 18 is greater than 20\n",
    "than the last condition out of the nested elif is \"number is zero\""
   ]
  },
  {
   "cell_type": "code",
   "execution_count": null,
   "id": "d0fc19ce",
   "metadata": {},
   "outputs": [
    {
     "name": "stdout",
     "output_type": "stream",
     "text": [
      "Number is between 11-20\n"
     ]
    }
   ],
   "source": [
    "\n",
    "\n",
    "num = 18\n",
    "if (num<0):\n",
    "    print(\"Number is negative.\")\n",
    "elif (num > 0):\n",
    "    if (num <= 10):\n",
    "        print(\"Number is between 1-10\")\n",
    "    elif(num>10 and num <= 20):\n",
    "        print(\"Number is between 11-20\")\n",
    "    else:\n",
    "        print(\"Number is greater than 20\")\n",
    "else:\n",
    "    print(\"Number is Zero\")"
   ]
  }
 ],
 "metadata": {
  "kernelspec": {
   "display_name": "Python 3",
   "language": "python",
   "name": "python3"
  },
  "language_info": {
   "codemirror_mode": {
    "name": "ipython",
    "version": 3
   },
   "file_extension": ".py",
   "mimetype": "text/x-python",
   "name": "python",
   "nbconvert_exporter": "python",
   "pygments_lexer": "ipython3",
   "version": "3.13.3"
  }
 },
 "nbformat": 4,
 "nbformat_minor": 5
}
