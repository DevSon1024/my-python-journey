{
 "cells": [
  {
   "cell_type": "markdown",
   "id": "749b82d7",
   "metadata": {},
   "source": [
    "## <b>Strings in python</b>\n",
    "- We can write strings in single or double quotes"
   ]
  },
  {
   "cell_type": "code",
   "execution_count": 2,
   "id": "a1a7b217",
   "metadata": {},
   "outputs": [
    {
     "name": "stdout",
     "output_type": "stream",
     "text": [
      "My name is DevSon\n",
      "my first friend is Ravi\n",
      "my another friend is Suresh\n"
     ]
    }
   ],
   "source": [
    "name = \"DevSon\"\n",
    "friend = 'Ravi'\n",
    "anotherFriend = 'Suresh'\n",
    "print(f'My name is {name}')\n",
    "print(f'my first friend is {friend}')\n",
    "print(f'my another friend is {anotherFriend}')"
   ]
  },
  {
   "cell_type": "markdown",
   "id": "a894388c",
   "metadata": {},
   "source": [
    "- if we want to write a a sentence in single or double quates, we can using single qoute\n",
    "- e.g. `\"Coward to say\" `\n",
    "- he is such big \"Coward to say\" really..."
   ]
  },
  {
   "cell_type": "code",
   "execution_count": 3,
   "id": "dd75b2bb",
   "metadata": {},
   "outputs": [
    {
     "name": "stdout",
     "output_type": "stream",
     "text": [
      "he is such big \"Coward to say\" really...\n"
     ]
    }
   ],
   "source": [
    "hero = 'he is such big \"Coward to say\" really...'\n",
    "print(hero)"
   ]
  },
  {
   "cell_type": "markdown",
   "id": "52c7a674",
   "metadata": {},
   "source": [
    "- if we want multilined setences as string value we can add through triple quates "
   ]
  },
  {
   "cell_type": "code",
   "execution_count": null,
   "id": "a71e3d73",
   "metadata": {},
   "outputs": [
    {
     "name": "stdout",
     "output_type": "stream",
     "text": [
      " 'the world is cruel and we have to suffer till the divine\n",
      "power ends this suffocating situations\n",
      "vishnu will take another incarnation as the kalki and take the \n",
      "life of demon will persons with his own hands\n",
      "just wait and watch..' \n",
      "\n"
     ]
    }
   ],
   "source": [
    "paragraph = ''' 'the world is cruel and we have to suffer till the divine power ends this suffocating situations\n",
    "vishnu will take another incarnation as the kalki and take the \n",
    "life of demon will persons with his own hands\n",
    "just wait and watch..' \n",
    "'''\n",
    "print(paragraph)"
   ]
  },
  {
   "cell_type": "markdown",
   "id": "1afbdcb1",
   "metadata": {},
   "source": [
    "- printing the names using indexing and for loop\n",
    "\n",
    "``` python\n",
    "for c in name:\n",
    "   print(c)\n",
    "```\n",
    "- Output:\n",
    "``` shell\n",
    "d\n",
    "e\n",
    "v\n",
    "s\n",
    "o\n",
    "n\n",
    "```\n",
    "\n",
    "- `c` means every single individual character of the string"
   ]
  }
 ],
 "metadata": {
  "kernelspec": {
   "display_name": "Python 3",
   "language": "python",
   "name": "python3"
  },
  "language_info": {
   "codemirror_mode": {
    "name": "ipython",
    "version": 3
   },
   "file_extension": ".py",
   "mimetype": "text/x-python",
   "name": "python",
   "nbconvert_exporter": "python",
   "pygments_lexer": "ipython3",
   "version": "3.13.3"
  }
 },
 "nbformat": 4,
 "nbformat_minor": 5
}
