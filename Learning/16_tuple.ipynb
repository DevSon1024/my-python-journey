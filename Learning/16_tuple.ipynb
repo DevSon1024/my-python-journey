{
 "cells": [
  {
   "cell_type": "markdown",
   "id": "1db632a8",
   "metadata": {},
   "source": [
    "### <b>Python Tuples</b>\n",
    "- Tuples are ordered collection of data items. they store multipe items in a single variable.\n",
    "- Tuple items are separatef by commas and enclosed within round brackets ().\n",
    "- Tuples are unchangeable meaning we cannot alter them after creation. "
   ]
  },
  {
   "cell_type": "code",
   "execution_count": null,
   "id": "d6f32f33",
   "metadata": {},
   "outputs": [
    {
     "name": "stdout",
     "output_type": "stream",
     "text": [
      "<class 'tuple'> (1, 2, 3)\n"
     ]
    }
   ],
   "source": [
    "# tuple is declared inside round brackets\n",
    "tup= (1,2,3)\n",
    "print(type(tup),tup)\n",
    "\n",
    "# if we just enter on value insde round brackets python will be confused and think it as a single datatype like int.\n",
    "tup2 = (1)\n",
    "print(type(tup2),tup2)\n",
    "\n",
    "# if we are declaring tuple with single value than we need the ',' for python knowing that this is tupple\n",
    "tup3 = (1,)\n",
    "print(type(tup3),tup3)"
   ]
  },
  {
   "cell_type": "code",
   "execution_count": 5,
   "id": "825e85c7",
   "metadata": {},
   "outputs": [
    {
     "name": "stdout",
     "output_type": "stream",
     "text": [
      "1\n",
      "2\n",
      "3\n",
      "Maya\n"
     ]
    }
   ],
   "source": [
    "# we can add multiple datatype in tuple as same as the list\n",
    "tup = (1,2,3,\"Devson\", \"Deepika\",\"Maya\")\n",
    "\n",
    "print(tup[0])\n",
    "print(tup[1])\n",
    "print(tup[2])\n",
    "print(tup[5])"
   ]
  },
  {
   "cell_type": "code",
   "execution_count": null,
   "id": "526efbb2",
   "metadata": {},
   "outputs": [
    {
     "name": "stdout",
     "output_type": "stream",
     "text": [
      "Yes 3 is present in this tuple\n"
     ]
    }
   ],
   "source": [
    "# conditions in tuple\n",
    "tup = (1,2,3,\"Devson\", \"Deepika\",\"Maya\")\n",
    "\n",
    "if 3 in tup:\n",
    "    print(\"Yep 3 is present in this tuple\")\n",
    "else:\n",
    "    print(\"nothing present in this tuple\")"
   ]
  }
 ],
 "metadata": {
  "kernelspec": {
   "display_name": "Python 3",
   "language": "python",
   "name": "python3"
  },
  "language_info": {
   "codemirror_mode": {
    "name": "ipython",
    "version": 3
   },
   "file_extension": ".py",
   "mimetype": "text/x-python",
   "name": "python",
   "nbconvert_exporter": "python",
   "pygments_lexer": "ipython3",
   "version": "3.13.3"
  }
 },
 "nbformat": 4,
 "nbformat_minor": 5
}
