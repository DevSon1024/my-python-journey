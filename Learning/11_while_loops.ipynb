{
 "cells": [
  {
   "cell_type": "code",
   "execution_count": null,
   "id": "16a4b16f",
   "metadata": {},
   "outputs": [
    {
     "name": "stdout",
     "output_type": "stream",
     "text": [
      "0\n",
      "1\n",
      "2\n",
      "3\n",
      "4\n",
      "Done with loop\n"
     ]
    }
   ],
   "source": [
    "# while loops\n",
    "\n",
    "i = 0\n",
    "while(i<5):\n",
    "    print(i)\n",
    "    i = i + 1\n",
    "    # or\n",
    "    # i +=1\n",
    "    \n",
    "'''\n",
    "until the i is less than 5 it will print number one by one\n",
    "it will print 0 to 4\n",
    "'''\n",
    "print(\"Done with loop\")"
   ]
  },
  {
   "cell_type": "code",
   "execution_count": 1,
   "id": "8aa7a313",
   "metadata": {},
   "outputs": [
    {
     "name": "stdout",
     "output_type": "stream",
     "text": [
      "5\n",
      "5\n",
      "5\n",
      "5\n",
      "5\n",
      "5\n",
      "5\n",
      "5\n",
      "21\n",
      "Done with the loop\n"
     ]
    }
   ],
   "source": [
    "# now we will print the input numbers until the i is less than 20\n",
    "i = int(input(\"Enter the Number: \"))\n",
    "while (i<=20):\n",
    "    i = int(input(\"Enter the Number: \"))\n",
    "    print(i)\n",
    "    \n",
    "print(\"Done with the loop\")"
   ]
  },
  {
   "cell_type": "code",
   "execution_count": null,
   "id": "57c4f3ec",
   "metadata": {},
   "outputs": [
    {
     "name": "stdout",
     "output_type": "stream",
     "text": [
      "5\n",
      "4\n",
      "3\n",
      "2\n",
      "1\n",
      "count is 0\n"
     ]
    }
   ],
   "source": [
    "# decrementing loop\n",
    "\n",
    "count = 5\n",
    "while (count > 0):\n",
    "    print(count)\n",
    "    count -= 1\n",
    "else:\n",
    "    print(f\"count is {count}\")\n",
    "# when the loop ends with 0 then condiyion of cound less than 0 becomes false means loop breaks than the else statement will print.\n"
   ]
  },
  {
   "cell_type": "markdown",
   "id": "dfe4a9e6",
   "metadata": {},
   "source": [
    "### <b> there is no do while loop in python the do while loop is used in java, c, c++ in do while the loop triggers once either the condition true or false </b>"
   ]
  }
 ],
 "metadata": {
  "kernelspec": {
   "display_name": "Python 3",
   "language": "python",
   "name": "python3"
  },
  "language_info": {
   "codemirror_mode": {
    "name": "ipython",
    "version": 3
   },
   "file_extension": ".py",
   "mimetype": "text/x-python",
   "name": "python",
   "nbconvert_exporter": "python",
   "pygments_lexer": "ipython3",
   "version": "3.13.3"
  }
 },
 "nbformat": 4,
 "nbformat_minor": 5
}
