{
 "cells": [
  {
   "cell_type": "markdown",
   "id": "b8b421e0",
   "metadata": {},
   "source": [
    "## <b>Dictionary Methods</b>\n",
    "\n",
    "- Dictionary uses several built-n methods for manipulation.\n",
    "- They are listed below"
   ]
  },
  {
   "cell_type": "markdown",
   "id": "8db1adfd",
   "metadata": {},
   "source": [
    "### <b>update()</b>\n",
    "- The update() method updates the value of the key provided to it id the item already exists in the dictionary, else it creates a new key-value pair."
   ]
  },
  {
   "cell_type": "code",
   "execution_count": 3,
   "id": "9e3d4989",
   "metadata": {},
   "outputs": [
    {
     "name": "stdout",
     "output_type": "stream",
     "text": [
      "{'name': 'Devson', 'age': 24, 'eligible': True}\n",
      "{'name': 'Devson', 'age': 23, 'eligible': True, 'DOB': 2003}\n"
     ]
    }
   ],
   "source": [
    "info = {'name':'Devson',\n",
    "        'age':24,\n",
    "        'eligible':True}\n",
    "print(info)\n",
    "info.update({'age':23})\n",
    "info.update({'DOB':2003})\n",
    "print(info)\n"
   ]
  },
  {
   "cell_type": "markdown",
   "id": "19432bca",
   "metadata": {},
   "source": [
    "### <b>Removing items from Dictionary:</b>\n",
    "\n",
    "- There are a fre methods that we can use to remove items from dictionary.\n",
    "\n",
    "### <b>clear()</b>\n",
    "- The clear() method removes all the items from the list."
   ]
  },
  {
   "cell_type": "code",
   "execution_count": 4,
   "id": "a3d30270",
   "metadata": {},
   "outputs": [
    {
     "name": "stdout",
     "output_type": "stream",
     "text": [
      "{}\n"
     ]
    }
   ],
   "source": [
    "info = {'name':'Devson',\n",
    "        'age':24,\n",
    "        'eligible':True}\n",
    "info.clear()\n",
    "print(info)"
   ]
  },
  {
   "cell_type": "markdown",
   "id": "80e8e9f2",
   "metadata": {},
   "source": [
    "### <b>pop()</b>\n",
    "\n",
    "- The `pop()` method removes the key-value pair whose key is passed as a parameter."
   ]
  },
  {
   "cell_type": "code",
   "execution_count": 5,
   "id": "15c2856c",
   "metadata": {},
   "outputs": [
    {
     "name": "stdout",
     "output_type": "stream",
     "text": [
      "{'name': 'Devson', 'age': 24}\n"
     ]
    }
   ],
   "source": [
    "info = {'name':'Devson',\n",
    "        'age':24,\n",
    "        'eligible':True}\n",
    "info.pop('eligible')\n",
    "print(info)"
   ]
  },
  {
   "cell_type": "markdown",
   "id": "ae5d4362",
   "metadata": {},
   "source": [
    "### <b>popitem()</b>\n",
    "- The popitem() method removes the last key-vlaue pair from the dicitionary."
   ]
  },
  {
   "cell_type": "code",
   "execution_count": 6,
   "id": "18f40589",
   "metadata": {},
   "outputs": [
    {
     "name": "stdout",
     "output_type": "stream",
     "text": [
      "{'name': 'Devson', 'age': 24, 'eligible': True}\n"
     ]
    }
   ],
   "source": [
    "info = {'name':'Devson',\n",
    "        'age':24,\n",
    "        'eligible':True,\n",
    "        'DOB':2003}\n",
    "info.popitem()\n",
    "print(info)"
   ]
  },
  {
   "cell_type": "markdown",
   "id": "240b8fe6",
   "metadata": {},
   "source": [
    "### <b>del</b>\n",
    "- We can also use `del` keyword to remove a dictionary item.\n",
    "> if key is not provided, then the `del` keyword will delete the dictionary entirely."
   ]
  },
  {
   "cell_type": "code",
   "execution_count": 9,
   "id": "993a5993",
   "metadata": {},
   "outputs": [
    {
     "name": "stdout",
     "output_type": "stream",
     "text": [
      "{'name': 'Devson', 'eligible': True, 'DOB': 2003}\n"
     ]
    }
   ],
   "source": [
    "info = {'name':'Devson',\n",
    "        'age':24,\n",
    "        'eligible':True,\n",
    "        'DOB':2003}\n",
    "del info['age']\n",
    "print(info)"
   ]
  },
  {
   "cell_type": "markdown",
   "id": "e5bd17a8",
   "metadata": {},
   "source": [
    "## <b>try more dixtionaries methods from python's official Docs</b>"
   ]
  }
 ],
 "metadata": {
  "kernelspec": {
   "display_name": "Python 3",
   "language": "python",
   "name": "python3"
  },
  "language_info": {
   "codemirror_mode": {
    "name": "ipython",
    "version": 3
   },
   "file_extension": ".py",
   "mimetype": "text/x-python",
   "name": "python",
   "nbconvert_exporter": "python",
   "pygments_lexer": "ipython3",
   "version": "3.13.3"
  }
 },
 "nbformat": 4,
 "nbformat_minor": 5
}
