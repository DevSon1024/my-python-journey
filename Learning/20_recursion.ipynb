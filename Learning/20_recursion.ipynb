{
 "cells": [
  {
   "cell_type": "markdown",
   "id": "327daca1",
   "metadata": {},
   "source": [
    "**Recursion in Python**\n",
    "- Recursion is the process of defining something in terms of itself.\n",
    "- A physical world example would be to place two parallel mirrors facing each other. Any object in between them would be refletected recursively.\n",
    "\n",
    "**Python Recursive Function**\n",
    "- In Python, we know that a function can call other functions. it is possible for the function to call itself. these types of construct are termed as recursive functions."
   ]
  },
  {
   "cell_type": "code",
   "execution_count": null,
   "id": "f9d79d0a",
   "metadata": {},
   "outputs": [
    {
     "name": "stdout",
     "output_type": "stream",
     "text": [
      "Number:  7\n",
      "Factorial: 5040\n"
     ]
    }
   ],
   "source": [
    "def factorial(num):\n",
    "    if (num == 1 or num == 0):\n",
    "        return 1\n",
    "    else:\n",
    "        return (num * factorial(num - 1)) # recursive call\n",
    "    \n",
    "num = 7\n",
    "print(\"Factorial:\",factorial(num))"
   ]
  },
  {
   "cell_type": "code",
   "execution_count": null,
   "id": "970e2669",
   "metadata": {},
   "outputs": [
    {
     "name": "stdout",
     "output_type": "stream",
     "text": [
      "Fibonacci of 10 is 55\n"
     ]
    }
   ],
   "source": [
    "# fibonacci sequence using recursion\n",
    "def fibonacci(num):\n",
    "    if num <= 0:\n",
    "        return 0\n",
    "    elif num == 1:\n",
    "        return 1\n",
    "    else:\n",
    "        return fibonacci(num - 1) + fibonacci(num - 2) # recursive call\n",
    "num = 10\n",
    "print(f\"Fibonacci of {num} is {fibonacci(num)}\")"
   ]
  },
  {
   "cell_type": "code",
   "execution_count": null,
   "id": "63788a05",
   "metadata": {},
   "outputs": [],
   "source": []
  }
 ],
 "metadata": {
  "kernelspec": {
   "display_name": "Python 3",
   "language": "python",
   "name": "python3"
  },
  "language_info": {
   "codemirror_mode": {
    "name": "ipython",
    "version": 3
   },
   "file_extension": ".py",
   "mimetype": "text/x-python",
   "name": "python",
   "nbconvert_exporter": "python",
   "pygments_lexer": "ipython3",
   "version": "3.13.3"
  }
 },
 "nbformat": 4,
 "nbformat_minor": 5
}
