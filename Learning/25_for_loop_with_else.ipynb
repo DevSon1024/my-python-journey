{
 "cells": [
  {
   "cell_type": "markdown",
   "id": "bb9629e8",
   "metadata": {},
   "source": [
    "## <b>Python - else in loop</b>\n",
    "\n",
    "- As we have learned before, the else clause is used along with the statement.\n",
    "- Python allows the else keyword to be used with the for and while loops too. \n",
    "- The else block appears after the body of the loop.\n",
    "- The statements in the else block will be executed after all iterations are comlpeted.\n",
    "- The program exits the only after the else block is executed.\n",
    "\n",
    "<h4><b>Syntax</b></h4>\n",
    "\n",
    "```python\n",
    "for counter in sequence:\n",
    "    #Statements inside for loop block\n",
    "else:\n",
    "    #Statements inside else block \n",
    "```"
   ]
  },
  {
   "cell_type": "code",
   "execution_count": 1,
   "id": "9004ac39",
   "metadata": {},
   "outputs": [
    {
     "name": "stdout",
     "output_type": "stream",
     "text": [
      "iteration no 1 in for loop\n",
      "iteration no 2 in for loop\n",
      "iteration no 3 in for loop\n",
      "iteration no 4 in for loop\n",
      "iteration no 5 in for loop\n",
      "else block in loop\n",
      "Out of loop\n"
     ]
    }
   ],
   "source": [
    "for x in range(5):\n",
    "    print(\"iteration no {} in for loop\".format(x+1))\n",
    "else:\n",
    "    print(\"else block in loop\") \n",
    "print(\"Out of loop\")"
   ]
  },
  {
   "cell_type": "code",
   "execution_count": null,
   "id": "a11861f3",
   "metadata": {},
   "outputs": [],
   "source": [
    "for i in range(5):\n",
    "    print(i)\n",
    "else:\n",
    "    print(\"Sorry no i\")"
   ]
  },
  {
   "cell_type": "markdown",
   "id": "8f2c588a",
   "metadata": {},
   "source": [
    "- with break keyword \n",
    "- is it going to print the else statement?\n",
    "- or just skip it?"
   ]
  },
  {
   "cell_type": "code",
   "execution_count": null,
   "id": "1129ec86",
   "metadata": {},
   "outputs": [
    {
     "name": "stdout",
     "output_type": "stream",
     "text": [
      "0\n",
      "1\n",
      "2\n",
      "3\n",
      "4\n"
     ]
    }
   ],
   "source": [
    "for i in range(5):\n",
    "    print(i)\n",
    "    if i == 4:\n",
    "        break\n",
    "else:\n",
    "    print(\"Sorry no i\")"
   ]
  },
  {
   "cell_type": "markdown",
   "id": "e79dc8e8",
   "metadata": {},
   "source": [
    "- The else block will not execute if the loop is exited with a break statement.\n",
    "- The else block will execute if the loop completes normally without a break.\n",
    "- else block is executed only if the loop is not terminated by a break statement. that shows the loop executed normally and successfully.\n",
    "\n",
    "- we can do that in `while` loop as well.\n",
    "- it will work same as for loop.\n",
    "- The else block will not execute if the loop is exited with a break statement."
   ]
  },
  {
   "cell_type": "code",
   "execution_count": null,
   "id": "f49d450b",
   "metadata": {},
   "outputs": [
    {
     "name": "stdout",
     "output_type": "stream",
     "text": [
      "0\n",
      "1\n",
      "2\n"
     ]
    }
   ],
   "source": [
    "i = 0\n",
    "while i < 5:\n",
    "    print(i)\n",
    "    i += 1 \n",
    "    if i == 3:\n",
    "        break\n",
    "else:\n",
    "    print(\"Sorry no i\")"
   ]
  }
 ],
 "metadata": {
  "kernelspec": {
   "display_name": "Python 3",
   "language": "python",
   "name": "python3"
  },
  "language_info": {
   "codemirror_mode": {
    "name": "ipython",
    "version": 3
   },
   "file_extension": ".py",
   "mimetype": "text/x-python",
   "name": "python",
   "nbconvert_exporter": "python",
   "pygments_lexer": "ipython3",
   "version": "3.13.3"
  }
 },
 "nbformat": 4,
 "nbformat_minor": 5
}
