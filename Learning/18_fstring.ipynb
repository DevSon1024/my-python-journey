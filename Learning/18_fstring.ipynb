{
 "cells": [
  {
   "cell_type": "code",
   "execution_count": null,
   "id": "30089267",
   "metadata": {},
   "outputs": [],
   "source": [
    "# old school way of formatting strings\n",
    "\n",
    "letter = \"Hey my name is {} and I am from {}.\"\n",
    "country = \"India\"\n",
    "name = \"Devendra\"\n",
    "print(letter.format(name, country))"
   ]
  },
  {
   "cell_type": "code",
   "execution_count": null,
   "id": "97f2c299",
   "metadata": {},
   "outputs": [
    {
     "name": "stdout",
     "output_type": "stream",
     "text": [
      "Hey my name is Devendra and I am from India.\n"
     ]
    }
   ],
   "source": [
    "# new and improved way of formatting strings\n",
    "country = \"India\"\n",
    "name = \"Devendra\"\n",
    "letter = f\"Hey my name is {name} and I am from {country}.\"\n",
    "print(letter)"
   ]
  },
  {
   "cell_type": "code",
   "execution_count": 2,
   "id": "5f60e366",
   "metadata": {},
   "outputs": [
    {
     "name": "stdout",
     "output_type": "stream",
     "text": [
      "The value of pi is 3.14.\n",
      "The value of pi is 3.14.\n"
     ]
    }
   ],
   "source": [
    "# for including 2 descimals in string as the\n",
    "# old way\n",
    "txt = \"The value of pi is {:.2f}.\"\n",
    "pi = 3.141592653589793\n",
    "print(txt.format(pi))\n",
    "\n",
    "# new way\n",
    "txt = \"The value of pi is %.2f.\" % pi\n",
    "print(txt)"
   ]
  },
  {
   "cell_type": "code",
   "execution_count": null,
   "id": "dc59ed42",
   "metadata": {},
   "outputs": [
    {
     "name": "stdout",
     "output_type": "stream",
     "text": [
      "60\n"
     ]
    }
   ],
   "source": [
    "# we can use it in single statement as well\n",
    "print(f\"{2*30}\")"
   ]
  },
  {
   "cell_type": "code",
   "execution_count": null,
   "id": "68616004",
   "metadata": {},
   "outputs": [
    {
     "name": "stdout",
     "output_type": "stream",
     "text": [
      "We can use f-string like this: {2*30}\n"
     ]
    }
   ],
   "source": [
    "# if we print the statement with curly brackets for showing the example of how to do fstring method we can use it like\n",
    "\n",
    "print(f\"We can use f-string like this: {{2*30}}\")\n",
    "\n",
    "# it will print the curly brackets as it is "
   ]
  }
 ],
 "metadata": {
  "kernelspec": {
   "display_name": "Python 3",
   "language": "python",
   "name": "python3"
  },
  "language_info": {
   "codemirror_mode": {
    "name": "ipython",
    "version": 3
   },
   "file_extension": ".py",
   "mimetype": "text/x-python",
   "name": "python",
   "nbconvert_exporter": "python",
   "pygments_lexer": "ipython3",
   "version": "3.13.3"
  }
 },
 "nbformat": 4,
 "nbformat_minor": 5
}
