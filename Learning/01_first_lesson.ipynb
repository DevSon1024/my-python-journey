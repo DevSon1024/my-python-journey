{
 "cells": [
  {
   "cell_type": "code",
   "execution_count": null,
   "id": "4f0a7aa5",
   "metadata": {},
   "outputs": [],
   "source": [
    "print(\"Hello World\", 7)\n",
    "print(5)\n",
    "print(\"Bye\")"
   ]
  },
  {
   "cell_type": "code",
   "execution_count": null,
   "id": "330f8aa0",
   "metadata": {},
   "outputs": [],
   "source": [
    "a = \"15\"\n",
    "b = \"devson\"\n",
    "print(int(a), b)"
   ]
  },
  {
   "cell_type": "markdown",
   "id": "1850f349",
   "metadata": {},
   "source": [
    "**About Comments in Python**\n",
    "\n",
    "- >\"# hey devson, Please do not remove this line\" this is one line comment\n",
    "\n",
    "- > '''\n",
    "This is multi line comments\n",
    "we can write the comments on multiple lines\n",
    "'''"
   ]
  },
  {
   "cell_type": "code",
   "execution_count": null,
   "id": "65c519f9",
   "metadata": {},
   "outputs": [],
   "source": [
    "# \\n this is an escape sequence used for new line in print statement \n",
    "print(\"Hey I am Developer \\n and i am more smarter tha n before in python\")"
   ]
  },
  {
   "cell_type": "code",
   "execution_count": null,
   "id": "acb953b0",
   "metadata": {},
   "outputs": [],
   "source": [
    "# in below eaxmple there is double quate escape sequence which is used for including double qouted words in the print statement\n",
    "\n",
    "# \\\" this is single escape sequence character same as \\n but used double for start and end.\n",
    "# e.g.: \\\"Developer\\\"\"\n",
    "\n",
    "# same for \\' for single quote\n",
    "\n",
    "print(\"Hey I am \\\"Developer\\\" and i am more smarter tha n before in python\")"
   ]
  },
  {
   "cell_type": "code",
   "execution_count": null,
   "id": "25a07fc5",
   "metadata": {},
   "outputs": [],
   "source": [
    "# more about print statement \n",
    "'''in below example we have multiple values with different datatype\n",
    "and if we use 'sep' keyword we can separate the values without default value which is space and with that separate value'''\n",
    "print(\"Hey\", 6 , 7, sep=\"~\")\n",
    "\n",
    "'''and if we write 'end' keyword for the ending value we can put that value at the end of that print statement'''\n",
    "\n",
    "print(\"Hey\", 6 , 7, sep=\"~\", end=\"009\\n\")\n",
    "print(\"DevSon\")"
   ]
  }
 ],
 "metadata": {
  "language_info": {
   "name": "python"
  }
 },
 "nbformat": 4,
 "nbformat_minor": 5
}
