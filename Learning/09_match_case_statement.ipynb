{
 "cells": [
  {
   "cell_type": "markdown",
   "id": "9448bb8d",
   "metadata": {},
   "source": [
    "### <b>Match Case Statements</b>\n",
    "\n",
    "- To implement switch-cse characteristics very similar to if-else functionality, we can use a match case in python.\n",
    "- If we are coming from C, C++ or Java like language =, we must have heard of switch-case statements.\n",
    "- It will tell us everything we need to know about matc case statements in this Jupyter Notebook.\n",
    "\n",
    "- A match statement will compare a given varible's value to different shapes , also referred a given variable's value to different shapes, also reffered to as the pattern.\n",
    "- The main idea is to keep in comparing the variable with all the present statements until it fits into one.\n",
    "\n",
    "<b>The match case consists of three main entities:</b>\n",
    "\n",
    "1. The match keyword\n",
    "2. One or more case clauses\n",
    "3. Expression for each case\n",
    "\n",
    "- The case clause consists of a pattern to be matched to the variable, a condition to be evaluated if the pattern matches, and a set of statements to be executed if the pattern matches.\n"
   ]
  },
  {
   "cell_type": "markdown",
   "id": "94714be9",
   "metadata": {},
   "source": [
    "## <b>Syntax:</b>\n",
    "```python\n",
    "match variable_name:\n",
    "    case 'pattern1':\n",
    "        # statement1\n",
    "    case 'pattern2':\n",
    "        # statement2\n",
    "    case 'pattern n':\n",
    "        # statement n\n",
    "```"
   ]
  },
  {
   "cell_type": "code",
   "execution_count": null,
   "id": "01c1af77",
   "metadata": {},
   "outputs": [
    {
     "name": "stdout",
     "output_type": "stream",
     "text": [
      "80 is not 90\n"
     ]
    }
   ],
   "source": [
    "x = int(input(\"enter the value of x: \"))\n",
    "# x is the variable to match\n",
    "match x:\n",
    "    # if x is 0\n",
    "    case 0:\n",
    "        print(\"x is zero\")\n",
    "    # case wwith if condition\n",
    "    case 4:\n",
    "        print(\"case is 4\")\n",
    "    # with '_' that is default case\n",
    "# we can use the cases with if condition\n",
    "    case _ if x!=90:\n",
    "        print(x, \"is not 90\")\n",
    "    case _ if x!=80:\n",
    "        print(x, \"is not 80\")\n",
    "    case _:\n",
    "        print(x)"
   ]
  },
  {
   "cell_type": "code",
   "execution_count": null,
   "id": "ab3d7b73",
   "metadata": {},
   "outputs": [
    {
     "name": "stdout",
     "output_type": "stream",
     "text": [
      "2\n",
      "4\n",
      "6\n",
      "8\n",
      "10\n",
      "12\n",
      "14\n",
      "16\n",
      "18\n",
      "20\n"
     ]
    }
   ],
   "source": [
    "# table with for loop\n",
    "for i in range(2,21,2):\n",
    "    print(i)"
   ]
  }
 ],
 "metadata": {
  "kernelspec": {
   "display_name": "Python 3",
   "language": "python",
   "name": "python3"
  },
  "language_info": {
   "codemirror_mode": {
    "name": "ipython",
    "version": 3
   },
   "file_extension": ".py",
   "mimetype": "text/x-python",
   "name": "python",
   "nbconvert_exporter": "python",
   "pygments_lexer": "ipython3",
   "version": "3.13.3"
  }
 },
 "nbformat": 4,
 "nbformat_minor": 5
}
