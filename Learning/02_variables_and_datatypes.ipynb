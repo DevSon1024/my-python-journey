{
 "cells": [
  {
   "cell_type": "markdown",
   "id": "129448a2",
   "metadata": {},
   "source": [
    "**Numeric Datatypes: int, float,complex**\n",
    "- int: 1,2,3\n",
    "- float: 1.5, 2.4, 3.6\n",
    "- complex: 6 + 2i\n",
    "\n",
    "**Text Data: str**\n",
    "- str: \"Hello World \"\n",
    "\n",
    "**Boolean Datatype:**\n",
    "- True\n",
    "- False\n",
    "\n",
    "**Squenced Datatypes: list, tuples (Data Structure)**\n",
    "- list = [1,2,3,[-5,5],[\"Dev\",\"Son\"]]  #Mutable\n",
    "- tuple = ((\"Dev\",\"Son\"),(\"Bha\",\"rat\")) \n",
    "- Set = {\"Dev\",\"Son\",\"Bha\",\"rat\"}\n",
    "- Also Set & Tuples are `Immutable`\n",
    "\n",
    "**Mapped Datatypes: Dictionary (part of Data Strucure)**\n",
    "- dict = {\"Name\":\"DevSon\",\"Username\":\"Devson123\"}"
   ]
  },
  {
   "cell_type": "code",
   "execution_count": null,
   "id": "8247eb67",
   "metadata": {},
   "outputs": [
    {
     "name": "stdout",
     "output_type": "stream",
     "text": [
      "123\n",
      "DevSon\n"
     ]
    }
   ],
   "source": [
    "a=123\n",
    "print(a)\n",
    "b=\"DevSon\"\n",
    "print(b)\n",
    "\n",
    "# print(a+b) #this is invalid because both values have different datatypes\n",
    "\n",
    "# for knowing the datatype of value\n",
    "print(\"The type of a is: \",type(a))"
   ]
  },
  {
   "cell_type": "code",
   "execution_count": 2,
   "id": "fd2ccc3a",
   "metadata": {},
   "outputs": [
    {
     "name": "stdout",
     "output_type": "stream",
     "text": [
      "[8, 2.3, [-4, 5], ['Apple', 'Banana']]\n"
     ]
    }
   ],
   "source": [
    "list1 = [8,2.3,[-4,5],[\"Apple\",\"Banana\"]]\n",
    "print(list1)"
   ]
  },
  {
   "cell_type": "code",
   "execution_count": null,
   "id": "f2974f1e",
   "metadata": {},
   "outputs": [],
   "source": [
    "tuple1 = {{\"parrot\",\"sparrow\"},{\"Lion\",\"Tiger\"}}\n",
    "print(tuple1)"
   ]
  },
  {
   "cell_type": "code",
   "execution_count": null,
   "id": "78aa8edf",
   "metadata": {},
   "outputs": [],
   "source": [
    "dict1 ={\"Name\":\"DevSon\",\"Username\":\"Devson123\",\"canUpload\":\"True\"}\n",
    "print(dict1)"
   ]
  }
 ],
 "metadata": {
  "kernelspec": {
   "display_name": "Python 3",
   "language": "python",
   "name": "python3"
  },
  "language_info": {
   "codemirror_mode": {
    "name": "ipython",
    "version": 3
   },
   "file_extension": ".py",
   "mimetype": "text/x-python",
   "name": "python",
   "nbconvert_exporter": "python",
   "pygments_lexer": "ipython3",
   "version": "3.13.3"
  }
 },
 "nbformat": 4,
 "nbformat_minor": 5
}
