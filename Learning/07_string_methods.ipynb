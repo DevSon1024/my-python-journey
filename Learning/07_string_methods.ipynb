{
 "cells": [
  {
   "cell_type": "markdown",
   "id": "9da42b76",
   "metadata": {},
   "source": [
    "## <b>String Methods</b>\n",
    "\n",
    "- Python provides a set of built in methods that can use to alter and modify the strings. \n",
    "-  strings are immutable"
   ]
  },
  {
   "cell_type": "code",
   "execution_count": null,
   "id": "686e9466",
   "metadata": {},
   "outputs": [
    {
     "name": "stdout",
     "output_type": "stream",
     "text": [
      "13\n",
      "DEVSON !!!!!!\n",
      "devson !!!!!!\n",
      "Devson \n",
      "John !!!!!!\n",
      "['Devson', '!!!!!!']\n"
     ]
    }
   ],
   "source": [
    "a = \"Devson !!!!!!\"\n",
    "print(len(a))\n",
    "print(a.upper())\n",
    "print(a.lower())\n",
    "print(a.rstrip(\"!\")) # it will clear the trailing (at the end) characters\n",
    "print(a.replace(\"Devson\",\"John\"))\n",
    "print(a.split(\" \")) # split and saves the words in list as different values"
   ]
  },
  {
   "cell_type": "code",
   "execution_count": 2,
   "id": "3b9b281e",
   "metadata": {},
   "outputs": [
    {
     "name": "stdout",
     "output_type": "stream",
     "text": [
      "Hey how are going somewhere\n"
     ]
    }
   ],
   "source": [
    "b = \"hey how are going somewhere\" \n",
    "print(b.capitalize()) # it will capitalize first word in the string"
   ]
  },
  {
   "cell_type": "code",
   "execution_count": 3,
   "id": "cfcefe73",
   "metadata": {},
   "outputs": [
    {
     "name": "stdout",
     "output_type": "stream",
     "text": [
      "               Welcome to the words               \n",
      "counting of 'a' in str1: 0\n",
      "is str2 end with '!!!': True\n",
      "is index number from 4 to 10 endswith 'to': True\n"
     ]
    }
   ],
   "source": [
    "str1 = \"Welcome to the words\"\n",
    "print(str1.center(50)) # adds 50 spaces to the line so string can be at center\n",
    "\n",
    "print(\"counting of 'a' in str1:\",a.count(\"a\")) # counts the given word or character in string\n",
    "\n",
    "str2 = \"Welcome to the console !!!\"\n",
    "print(\"is str2 end with '!!!':\",str2.endswith(\"!!!\")) # gives bolean output\n",
    "# we can also check for value in between the sring by probviding start and end index position\n",
    "print(\"is index number from 4 to 10 endswith 'to':\",str1.endswith(\"to\",4,10))"
   ]
  },
  {
   "cell_type": "code",
   "execution_count": 4,
   "id": "dfc7e166",
   "metadata": {},
   "outputs": [
    {
     "name": "stdout",
     "output_type": "stream",
     "text": [
      "index value of 'is' is:  10\n",
      "index value of D is:  13\n",
      "Index value of 'Drama':  -1\n"
     ]
    }
   ],
   "source": [
    "# find() will show the first occuance of given word or character in the string\n",
    "str3 = \"He's name is Dan. He is an honest man.\"\n",
    "print(\"index value of 'is' is: \",str3.find(\"is\")) #output:10\n",
    "print(\"index value of D is: \",str3.find(\"D\")) #output:13\n",
    "print(\"Index value of 'Drama': \",str3.find(\"Drama\")) #output:-1\n",
    "# index() is same as find() but it is throws exception if word/character is not found in the string\n",
    "\n",
    "# print(str3.index(\"Drama\")) #Throws Exception"
   ]
  },
  {
   "cell_type": "code",
   "execution_count": 5,
   "id": "2cca32aa",
   "metadata": {},
   "outputs": [
    {
     "name": "stdout",
     "output_type": "stream",
     "text": [
      "is str4 alphanumerical: True\n"
     ]
    }
   ],
   "source": [
    "# isalnum() found if string is alphanumeric or not\n",
    "str4 = \"WelcomeToTheConsole\"\n",
    "print(\"is str4 alphanumerical:\",str4.isalnum())"
   ]
  },
  {
   "cell_type": "code",
   "execution_count": 6,
   "id": "0f1b46f8",
   "metadata": {},
   "outputs": [
    {
     "name": "stdout",
     "output_type": "stream",
     "text": [
      "is str5 alphabetical: True\n",
      "is str5 lower:  False\n"
     ]
    }
   ],
   "source": [
    "# isalpha() is used to found out if the string has alphabets or not\n",
    "str5 = \"Welcome\"\n",
    "print(\"is str5 alphabetical:\",str5.isalpha())\n",
    "\n",
    "# islower() checks if all the character are lower or not in the strings\n",
    "print(\"is str5 lower: \",str5.islower())"
   ]
  },
  {
   "cell_type": "code",
   "execution_count": 7,
   "id": "822b7c50",
   "metadata": {},
   "outputs": [
    {
     "name": "stdout",
     "output_type": "stream",
     "text": [
      "is str6 printable: True\n"
     ]
    }
   ],
   "source": [
    "# isprintable() method returns True if all the values within the given string  are printable, if not then return false\n",
    "# if we write \"We wish you a Shubh Dipawali \\n\" it will give us false becauase '\\n' is not printable\n",
    "str6 = \"We wish you a Shubh Dipawali\"\n",
    "print(\"is str6 printable:\",str6.isprintable()) "
   ]
  },
  {
   "cell_type": "code",
   "execution_count": 8,
   "id": "0e3e8abb",
   "metadata": {},
   "outputs": [
    {
     "name": "stdout",
     "output_type": "stream",
     "text": [
      "is str0 contain spaces: True\n"
     ]
    }
   ],
   "source": [
    "# isspace() method return True only id the string containes white spaces, else return False.\n",
    "str0 = \"              \"\n",
    "print(\"is str0 contain spaces:\",str0.isspace())"
   ]
  },
  {
   "cell_type": "code",
   "execution_count": 9,
   "id": "f83d37e5",
   "metadata": {},
   "outputs": [
    {
     "name": "stdout",
     "output_type": "stream",
     "text": [
      "is str7 has first letter of every word capital: False\n"
     ]
    }
   ],
   "source": [
    "# The istitle() returns True only if the first letter of each word of the string is capitalized, else it returns false.\n",
    "str7 = \"To kill a Mocking Bird\"\n",
    "print(\"is str7 has first letter of every word capital:\",str7.istitle())"
   ]
  },
  {
   "cell_type": "code",
   "execution_count": 10,
   "id": "b865b281",
   "metadata": {},
   "outputs": [
    {
     "name": "stdout",
     "output_type": "stream",
     "text": [
      "is str8 starts with 'Python': True\n"
     ]
    }
   ],
   "source": [
    "# startwith() same as endswith() check =s if thestring starts with a given value \n",
    "\n",
    "str8 = \"Python is interpreted language\"\n",
    "print(\"is str8 starts with 'Python':\",str8.startswith(\"Python\"))"
   ]
  },
  {
   "cell_type": "code",
   "execution_count": 12,
   "id": "f699c5e8",
   "metadata": {},
   "outputs": [
    {
     "name": "stdout",
     "output_type": "stream",
     "text": [
      "str9 string After changing case:  pYTHON IS INTERPRETED LANGUAGE\n",
      "str9 after capitalizing each letter:  Python Is Interpreted Language\n"
     ]
    }
   ],
   "source": [
    "# swapcase() method changes th character casing of the string. Upper case asre converted to lower case and lower case to upper case\n",
    "str9 = \"Python is interpreted language\"\n",
    "print(\"str9 string After changing case: \",str9.swapcase())\n",
    "# title() will capitalizes each letter of the word within the string\n",
    "print(\"str9 after capitalizing each letter: \",str9.title()) "
   ]
  }
 ],
 "metadata": {
  "kernelspec": {
   "display_name": "Python 3",
   "language": "python",
   "name": "python3"
  },
  "language_info": {
   "codemirror_mode": {
    "name": "ipython",
    "version": 3
   },
   "file_extension": ".py",
   "mimetype": "text/x-python",
   "name": "python",
   "nbconvert_exporter": "python",
   "pygments_lexer": "ipython3",
   "version": "3.13.3"
  }
 },
 "nbformat": 4,
 "nbformat_minor": 5
}
