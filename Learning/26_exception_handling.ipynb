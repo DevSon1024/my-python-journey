{
 "cells": [
  {
   "cell_type": "markdown",
   "id": "906fe8ce",
   "metadata": {},
   "source": [
    "## <b>Exception Handling</b>\n",
    "- Eception handling is the process of responding to unwanted or unexpected events when a computer program runs.\n",
    "- Expception Handling deals with these events to avoid the program or system crashing, and without this process exceptions would disrupt the normal operation of a program.\n",
    "\n",
    "## <b>Exceptions in Python</b>\n",
    "- Python has many built-in exceptions that are raised when your program encounters an error (Something in the program goes wrong.)\n",
    "- When these exceptions occur, the Python interpreter stops the current processs and passes it to calling process until it is handled.\n",
    "- If not handled, the program will crash.\n",
    "\n",
    "## <b>Python try...except</b>\n",
    "- try..except blocks are used in python to handle errors and exceptions. \n",
    "- The code in try block runs when there is no error.\n",
    "- If the try block catches the error, then the except block is executed. \n",
    "\n",
    "### <b>Syntax:</b>\n",
    "``` python\n",
    "try:\n",
    "    #statements which could generate exception\n",
    "except:\n",
    "    #Solution of generated exception\n",
    "```"
   ]
  },
  {
   "cell_type": "code",
   "execution_count": null,
   "id": "2e8460d3",
   "metadata": {},
   "outputs": [
    {
     "name": "stdout",
     "output_type": "stream",
     "text": [
      "multiplication table of joker is: \n",
      "invalid input\n"
     ]
    }
   ],
   "source": [
    "a = input(\"Enter the number: \")\n",
    "\n",
    "try:\n",
    "    print(f\"multiplication table of {a} is: \")\n",
    "    for i in range(1, 11):\n",
    "        print(f\"{int(a)} x {i} = {int(a)*i}\")\n",
    "except:\n",
    "    print(f\"{a} is invalid input\")"
   ]
  },
  {
   "cell_type": "code",
   "execution_count": null,
   "id": "468a0948",
   "metadata": {},
   "outputs": [
    {
     "name": "stdout",
     "output_type": "stream",
     "text": [
      "Number entred is not an integer.\n"
     ]
    }
   ],
   "source": [
    "try:\n",
    "    num = int(input(\"Enter an Integer: \"))\n",
    "# if there is error about datatype below exception will handle it e.g.: lom\n",
    "except ValueError:\n",
    "    print(\"Number entered is not an integer.\")"
   ]
  },
  {
   "cell_type": "code",
   "execution_count": null,
   "id": "b928826f",
   "metadata": {},
   "outputs": [
    {
     "name": "stdout",
     "output_type": "stream",
     "text": [
      "Number entred is not an integer.\n"
     ]
    }
   ],
   "source": [
    "try:\n",
    "    num = int(input(\"Enter an Integer: \"))\n",
    "    a = [6,3]\n",
    "    print(a[num])\n",
    "except ValueError:\n",
    "    print(\"Number entered is not an integer.\")\n",
    "# if there is invalid index entered in num variable for 'a' variable below block error will occur, e.g.: 4\n",
    "except IndexError:\n",
    "    print(\"Index Error\")"
   ]
  }
 ],
 "metadata": {
  "kernelspec": {
   "display_name": "Python 3",
   "language": "python",
   "name": "python3"
  },
  "language_info": {
   "codemirror_mode": {
    "name": "ipython",
    "version": 3
   },
   "file_extension": ".py",
   "mimetype": "text/x-python",
   "name": "python",
   "nbconvert_exporter": "python",
   "pygments_lexer": "ipython3",
   "version": "3.13.3"
  }
 },
 "nbformat": 4,
 "nbformat_minor": 5
}
