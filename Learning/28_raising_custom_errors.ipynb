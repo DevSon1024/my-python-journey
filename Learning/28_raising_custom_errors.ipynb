{
 "cells": [
  {
   "cell_type": "markdown",
   "id": "2a38f106",
   "metadata": {},
   "source": [
    "### <b>Raising Custom Errors</b>\n",
    "- In python, we can also raise custom errors by using the `raise` keyword"
   ]
  },
  {
   "cell_type": "code",
   "execution_count": 1,
   "id": "f3bb4f86",
   "metadata": {},
   "outputs": [
    {
     "ename": "ValueError",
     "evalue": "Value should be between 5 and 9..",
     "output_type": "error",
     "traceback": [
      "\u001b[31m---------------------------------------------------------------------------\u001b[39m",
      "\u001b[31mValueError\u001b[39m                                Traceback (most recent call last)",
      "\u001b[36mCell\u001b[39m\u001b[36m \u001b[39m\u001b[32mIn[1]\u001b[39m\u001b[32m, line 4\u001b[39m\n\u001b[32m      1\u001b[39m a = \u001b[38;5;28mint\u001b[39m(\u001b[38;5;28minput\u001b[39m(\u001b[33m\"\u001b[39m\u001b[33mEnter any value between 5 and 9: \u001b[39m\u001b[33m\"\u001b[39m))\n\u001b[32m      3\u001b[39m \u001b[38;5;28;01mif\u001b[39;00m (a<\u001b[32m5\u001b[39m \u001b[38;5;129;01mor\u001b[39;00m a>\u001b[32m9\u001b[39m):\n\u001b[32m----> \u001b[39m\u001b[32m4\u001b[39m     \u001b[38;5;28;01mraise\u001b[39;00m \u001b[38;5;167;01mValueError\u001b[39;00m(\u001b[33m\"\u001b[39m\u001b[33mValue should be between 5 and 9..\u001b[39m\u001b[33m\"\u001b[39m)\n",
      "\u001b[31mValueError\u001b[39m: Value should be between 5 and 9.."
     ]
    }
   ],
   "source": [
    "a = int(input(\"Enter any value between 5 and 9: \"))\n",
    "\n",
    "if (a<5 or a>9):\n",
    "    raise ValueError(\"Value should be between 5 and 9..\")"
   ]
  },
  {
   "cell_type": "code",
   "execution_count": null,
   "id": "90ad3db6",
   "metadata": {},
   "outputs": [],
   "source": [
    "salary = int(input(\"Enter salary amount: \"))\n",
    "\n",
    "if not 2000 < salary <5000:\n",
    "    raise ValueError(\"Not a valid salary\")"
   ]
  },
  {
   "cell_type": "markdown",
   "id": "451084f1",
   "metadata": {},
   "source": [
    "- In the previous tutorial we learned about different built-in exceptions in python and why it is important to handle exceptions.\n",
    "- however, sometimes we may need to create our own custom exceptions that serve our purpose."
   ]
  },
  {
   "cell_type": "markdown",
   "id": "d736cd4f",
   "metadata": {},
   "source": [
    "### <b>Defining Custome Exceptions</b>\n",
    "- In Python, we can define custom exceptions by creating a new class that id derived from the built-in exception class.\n",
    "- Here's the syntax to define custome exceptions:\n",
    "```python\n",
    "class CustomError(Exception):\n",
    "    # code ...\n",
    "    pass\n",
    "try:\n",
    "    # code ...\n",
    "except CustomError:\n",
    "    # code ...\n",
    "```"
   ]
  },
  {
   "cell_type": "code",
   "execution_count": null,
   "id": "1c1ea37f",
   "metadata": {},
   "outputs": [
    {
     "ename": "ValueError",
     "evalue": "Value should be between 5 and 9..",
     "output_type": "error",
     "traceback": [
      "\u001b[31m---------------------------------------------------------------------------\u001b[39m",
      "\u001b[31mValueError\u001b[39m                                Traceback (most recent call last)",
      "\u001b[36mCell\u001b[39m\u001b[36m \u001b[39m\u001b[32mIn[10]\u001b[39m\u001b[32m, line 6\u001b[39m\n\u001b[32m      4\u001b[39m     \u001b[38;5;28mprint\u001b[39m(\u001b[33m\"\u001b[39m\u001b[33m\"\u001b[39m)\n\u001b[32m      5\u001b[39m \u001b[38;5;28;01melif\u001b[39;00m  (\u001b[38;5;28mint\u001b[39m(a)<\u001b[32m5\u001b[39m \u001b[38;5;129;01mor\u001b[39;00m \u001b[38;5;28mint\u001b[39m(a)>\u001b[32m9\u001b[39m):\n\u001b[32m----> \u001b[39m\u001b[32m6\u001b[39m     \u001b[38;5;28;01mraise\u001b[39;00m \u001b[38;5;167;01mValueError\u001b[39;00m(\u001b[33m\"\u001b[39m\u001b[33mValue should be between 5 and 9..\u001b[39m\u001b[33m\"\u001b[39m)\n\u001b[32m      7\u001b[39m \u001b[38;5;28;01melse\u001b[39;00m:\n\u001b[32m      8\u001b[39m     \u001b[38;5;28mprint\u001b[39m(a)\n",
      "\u001b[31mValueError\u001b[39m: Value should be between 5 and 9.."
     ]
    }
   ],
   "source": []
  },
  {
   "cell_type": "code",
   "execution_count": null,
   "id": "438241ee",
   "metadata": {},
   "outputs": [],
   "source": []
  }
 ],
 "metadata": {
  "kernelspec": {
   "display_name": "Python 3",
   "language": "python",
   "name": "python3"
  },
  "language_info": {
   "codemirror_mode": {
    "name": "ipython",
    "version": 3
   },
   "file_extension": ".py",
   "mimetype": "text/x-python",
   "name": "python",
   "nbconvert_exporter": "python",
   "pygments_lexer": "ipython3",
   "version": "3.13.3"
  }
 },
 "nbformat": 4,
 "nbformat_minor": 5
}
